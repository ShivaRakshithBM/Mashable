{
 "cells": [
  {
   "cell_type": "code",
   "execution_count": 1,
   "metadata": {
    "collapsed": false
   },
   "outputs": [
    {
     "name": "stderr",
     "output_type": "stream",
     "text": [
      "C:\\Users\\Shiva\\Anaconda2\\lib\\sklearn\\cross_validation.py:44: DeprecationWarning: This module was deprecated in version 0.18 in favor of the model_selection module into which all the refactored classes and functions are moved. Also note that the interface of the new CV iterators are different from that of this module. This module will be removed in 0.20.\n",
      "  \"This module will be removed in 0.20.\", DeprecationWarning)\n",
      "C:\\Users\\Shiva\\Anaconda2\\lib\\sklearn\\grid_search.py:43: DeprecationWarning: This module was deprecated in version 0.18 in favor of the model_selection module into which all the refactored classes and functions are moved. This module will be removed in 0.20.\n",
      "  DeprecationWarning)\n"
     ]
    }
   ],
   "source": [
    "import numpy as np\n",
    "import pandas as pd\n",
    "from sklearn import metrics\n",
    "from sklearn.cross_validation import train_test_split\n",
    "from sklearn import preprocessing\n",
    "from sklearn import cross_validation\n",
    "from sklearn.cross_validation import cross_val_score\n",
    "from sklearn.cross_validation import train_test_split\n",
    "from sklearn.grid_search import GridSearchCV\n",
    "from sklearn.decomposition import PCA\n",
    "from sklearn.grid_search import RandomizedSearchCV\n",
    "from sklearn import svm\n",
    "from sklearn.svm import SVR\n",
    "import numpy as np\n",
    "import matplotlib.pyplot as plt\n",
    "from sklearn.tree import DecisionTreeRegressor\n",
    "from sklearn.ensemble import AdaBoostRegressor\n",
    "import numpy as np\n",
    "import matplotlib.pyplot as plt\n",
    "from sklearn import ensemble\n",
    "from sklearn.ensemble import RandomForestRegressor\n",
    "from sklearn.metrics import *"
   ]
  },
  {
   "cell_type": "code",
   "execution_count": 33,
   "metadata": {
    "collapsed": true
   },
   "outputs": [],
   "source": [
    "import os\n",
    "os.chdir('C:\\\\Carlson MSBA\\\\Fall\\\\Predictive analytics\\\\Project')\n",
    "data = pd.read_csv(\"OnlineNewsPopularity.csv\")\n",
    "Online_News = data.iloc[:,1:]"
   ]
  },
  {
   "cell_type": "code",
   "execution_count": 34,
   "metadata": {
    "collapsed": false
   },
   "outputs": [
    {
     "data": {
      "text/html": [
       "<div>\n",
       "<table border=\"1\" class=\"dataframe\">\n",
       "  <thead>\n",
       "    <tr style=\"text-align: right;\">\n",
       "      <th></th>\n",
       "      <th>timedelta</th>\n",
       "      <th>n_tokens_title</th>\n",
       "      <th>n_tokens_content</th>\n",
       "      <th>n_unique_tokens</th>\n",
       "      <th>n_non_stop_words</th>\n",
       "      <th>n_non_stop_unique_tokens</th>\n",
       "      <th>num_hrefs</th>\n",
       "      <th>num_self_hrefs</th>\n",
       "      <th>num_imgs</th>\n",
       "      <th>num_videos</th>\n",
       "      <th>...</th>\n",
       "      <th>min_positive_polarity</th>\n",
       "      <th>max_positive_polarity</th>\n",
       "      <th>avg_negative_polarity</th>\n",
       "      <th>min_negative_polarity</th>\n",
       "      <th>max_negative_polarity</th>\n",
       "      <th>title_subjectivity</th>\n",
       "      <th>title_sentiment_polarity</th>\n",
       "      <th>abs_title_subjectivity</th>\n",
       "      <th>abs_title_sentiment_polarity</th>\n",
       "      <th>shares</th>\n",
       "    </tr>\n",
       "  </thead>\n",
       "  <tbody>\n",
       "    <tr>\n",
       "      <th>0</th>\n",
       "      <td>731.0</td>\n",
       "      <td>12.0</td>\n",
       "      <td>219.0</td>\n",
       "      <td>0.663594</td>\n",
       "      <td>1.0</td>\n",
       "      <td>0.815385</td>\n",
       "      <td>4.0</td>\n",
       "      <td>2.0</td>\n",
       "      <td>1.0</td>\n",
       "      <td>0.0</td>\n",
       "      <td>...</td>\n",
       "      <td>0.100000</td>\n",
       "      <td>0.7</td>\n",
       "      <td>-0.350000</td>\n",
       "      <td>-0.600</td>\n",
       "      <td>-0.200000</td>\n",
       "      <td>0.500000</td>\n",
       "      <td>-0.187500</td>\n",
       "      <td>0.000000</td>\n",
       "      <td>0.187500</td>\n",
       "      <td>593</td>\n",
       "    </tr>\n",
       "    <tr>\n",
       "      <th>1</th>\n",
       "      <td>731.0</td>\n",
       "      <td>9.0</td>\n",
       "      <td>255.0</td>\n",
       "      <td>0.604743</td>\n",
       "      <td>1.0</td>\n",
       "      <td>0.791946</td>\n",
       "      <td>3.0</td>\n",
       "      <td>1.0</td>\n",
       "      <td>1.0</td>\n",
       "      <td>0.0</td>\n",
       "      <td>...</td>\n",
       "      <td>0.033333</td>\n",
       "      <td>0.7</td>\n",
       "      <td>-0.118750</td>\n",
       "      <td>-0.125</td>\n",
       "      <td>-0.100000</td>\n",
       "      <td>0.000000</td>\n",
       "      <td>0.000000</td>\n",
       "      <td>0.500000</td>\n",
       "      <td>0.000000</td>\n",
       "      <td>711</td>\n",
       "    </tr>\n",
       "    <tr>\n",
       "      <th>2</th>\n",
       "      <td>731.0</td>\n",
       "      <td>9.0</td>\n",
       "      <td>211.0</td>\n",
       "      <td>0.575130</td>\n",
       "      <td>1.0</td>\n",
       "      <td>0.663866</td>\n",
       "      <td>3.0</td>\n",
       "      <td>1.0</td>\n",
       "      <td>1.0</td>\n",
       "      <td>0.0</td>\n",
       "      <td>...</td>\n",
       "      <td>0.100000</td>\n",
       "      <td>1.0</td>\n",
       "      <td>-0.466667</td>\n",
       "      <td>-0.800</td>\n",
       "      <td>-0.133333</td>\n",
       "      <td>0.000000</td>\n",
       "      <td>0.000000</td>\n",
       "      <td>0.500000</td>\n",
       "      <td>0.000000</td>\n",
       "      <td>1500</td>\n",
       "    </tr>\n",
       "    <tr>\n",
       "      <th>3</th>\n",
       "      <td>731.0</td>\n",
       "      <td>9.0</td>\n",
       "      <td>531.0</td>\n",
       "      <td>0.503788</td>\n",
       "      <td>1.0</td>\n",
       "      <td>0.665635</td>\n",
       "      <td>9.0</td>\n",
       "      <td>0.0</td>\n",
       "      <td>1.0</td>\n",
       "      <td>0.0</td>\n",
       "      <td>...</td>\n",
       "      <td>0.136364</td>\n",
       "      <td>0.8</td>\n",
       "      <td>-0.369697</td>\n",
       "      <td>-0.600</td>\n",
       "      <td>-0.166667</td>\n",
       "      <td>0.000000</td>\n",
       "      <td>0.000000</td>\n",
       "      <td>0.500000</td>\n",
       "      <td>0.000000</td>\n",
       "      <td>1200</td>\n",
       "    </tr>\n",
       "    <tr>\n",
       "      <th>4</th>\n",
       "      <td>731.0</td>\n",
       "      <td>13.0</td>\n",
       "      <td>1072.0</td>\n",
       "      <td>0.415646</td>\n",
       "      <td>1.0</td>\n",
       "      <td>0.540890</td>\n",
       "      <td>19.0</td>\n",
       "      <td>19.0</td>\n",
       "      <td>20.0</td>\n",
       "      <td>0.0</td>\n",
       "      <td>...</td>\n",
       "      <td>0.033333</td>\n",
       "      <td>1.0</td>\n",
       "      <td>-0.220192</td>\n",
       "      <td>-0.500</td>\n",
       "      <td>-0.050000</td>\n",
       "      <td>0.454545</td>\n",
       "      <td>0.136364</td>\n",
       "      <td>0.045455</td>\n",
       "      <td>0.136364</td>\n",
       "      <td>505</td>\n",
       "    </tr>\n",
       "  </tbody>\n",
       "</table>\n",
       "<p>5 rows × 60 columns</p>\n",
       "</div>"
      ],
      "text/plain": [
       "    timedelta   n_tokens_title   n_tokens_content   n_unique_tokens  \\\n",
       "0       731.0             12.0              219.0          0.663594   \n",
       "1       731.0              9.0              255.0          0.604743   \n",
       "2       731.0              9.0              211.0          0.575130   \n",
       "3       731.0              9.0              531.0          0.503788   \n",
       "4       731.0             13.0             1072.0          0.415646   \n",
       "\n",
       "    n_non_stop_words   n_non_stop_unique_tokens   num_hrefs   num_self_hrefs  \\\n",
       "0                1.0                   0.815385         4.0              2.0   \n",
       "1                1.0                   0.791946         3.0              1.0   \n",
       "2                1.0                   0.663866         3.0              1.0   \n",
       "3                1.0                   0.665635         9.0              0.0   \n",
       "4                1.0                   0.540890        19.0             19.0   \n",
       "\n",
       "    num_imgs   num_videos   ...      min_positive_polarity  \\\n",
       "0        1.0          0.0   ...                   0.100000   \n",
       "1        1.0          0.0   ...                   0.033333   \n",
       "2        1.0          0.0   ...                   0.100000   \n",
       "3        1.0          0.0   ...                   0.136364   \n",
       "4       20.0          0.0   ...                   0.033333   \n",
       "\n",
       "    max_positive_polarity   avg_negative_polarity   min_negative_polarity  \\\n",
       "0                     0.7               -0.350000                  -0.600   \n",
       "1                     0.7               -0.118750                  -0.125   \n",
       "2                     1.0               -0.466667                  -0.800   \n",
       "3                     0.8               -0.369697                  -0.600   \n",
       "4                     1.0               -0.220192                  -0.500   \n",
       "\n",
       "    max_negative_polarity   title_subjectivity   title_sentiment_polarity  \\\n",
       "0               -0.200000             0.500000                  -0.187500   \n",
       "1               -0.100000             0.000000                   0.000000   \n",
       "2               -0.133333             0.000000                   0.000000   \n",
       "3               -0.166667             0.000000                   0.000000   \n",
       "4               -0.050000             0.454545                   0.136364   \n",
       "\n",
       "    abs_title_subjectivity   abs_title_sentiment_polarity   shares  \n",
       "0                 0.000000                       0.187500      593  \n",
       "1                 0.500000                       0.000000      711  \n",
       "2                 0.500000                       0.000000     1500  \n",
       "3                 0.500000                       0.000000     1200  \n",
       "4                 0.045455                       0.136364      505  \n",
       "\n",
       "[5 rows x 60 columns]"
      ]
     },
     "execution_count": 34,
     "metadata": {},
     "output_type": "execute_result"
    }
   ],
   "source": [
    "Online_News.head()"
   ]
  },
  {
   "cell_type": "code",
   "execution_count": 4,
   "metadata": {
    "collapsed": false
   },
   "outputs": [
    {
     "data": {
      "text/html": [
       "<div>\n",
       "<table border=\"1\" class=\"dataframe\">\n",
       "  <thead>\n",
       "    <tr style=\"text-align: right;\">\n",
       "      <th></th>\n",
       "      <th>timedelta</th>\n",
       "      <th>n_tokens_title</th>\n",
       "      <th>n_tokens_content</th>\n",
       "      <th>n_unique_tokens</th>\n",
       "      <th>n_non_stop_words</th>\n",
       "      <th>n_non_stop_unique_tokens</th>\n",
       "      <th>num_hrefs</th>\n",
       "      <th>num_self_hrefs</th>\n",
       "      <th>num_imgs</th>\n",
       "      <th>num_videos</th>\n",
       "      <th>...</th>\n",
       "      <th>avg_positive_polarity</th>\n",
       "      <th>min_positive_polarity</th>\n",
       "      <th>max_positive_polarity</th>\n",
       "      <th>avg_negative_polarity</th>\n",
       "      <th>min_negative_polarity</th>\n",
       "      <th>max_negative_polarity</th>\n",
       "      <th>title_subjectivity</th>\n",
       "      <th>title_sentiment_polarity</th>\n",
       "      <th>abs_title_subjectivity</th>\n",
       "      <th>abs_title_sentiment_polarity</th>\n",
       "    </tr>\n",
       "  </thead>\n",
       "  <tbody>\n",
       "    <tr>\n",
       "      <th>0</th>\n",
       "      <td>731.0</td>\n",
       "      <td>12.0</td>\n",
       "      <td>219.0</td>\n",
       "      <td>0.663594</td>\n",
       "      <td>1.0</td>\n",
       "      <td>0.815385</td>\n",
       "      <td>4.0</td>\n",
       "      <td>2.0</td>\n",
       "      <td>1.0</td>\n",
       "      <td>0.0</td>\n",
       "      <td>...</td>\n",
       "      <td>0.378636</td>\n",
       "      <td>0.100000</td>\n",
       "      <td>0.7</td>\n",
       "      <td>-0.350000</td>\n",
       "      <td>-0.600</td>\n",
       "      <td>-0.200000</td>\n",
       "      <td>0.500000</td>\n",
       "      <td>-0.187500</td>\n",
       "      <td>0.000000</td>\n",
       "      <td>0.187500</td>\n",
       "    </tr>\n",
       "    <tr>\n",
       "      <th>1</th>\n",
       "      <td>731.0</td>\n",
       "      <td>9.0</td>\n",
       "      <td>255.0</td>\n",
       "      <td>0.604743</td>\n",
       "      <td>1.0</td>\n",
       "      <td>0.791946</td>\n",
       "      <td>3.0</td>\n",
       "      <td>1.0</td>\n",
       "      <td>1.0</td>\n",
       "      <td>0.0</td>\n",
       "      <td>...</td>\n",
       "      <td>0.286915</td>\n",
       "      <td>0.033333</td>\n",
       "      <td>0.7</td>\n",
       "      <td>-0.118750</td>\n",
       "      <td>-0.125</td>\n",
       "      <td>-0.100000</td>\n",
       "      <td>0.000000</td>\n",
       "      <td>0.000000</td>\n",
       "      <td>0.500000</td>\n",
       "      <td>0.000000</td>\n",
       "    </tr>\n",
       "    <tr>\n",
       "      <th>2</th>\n",
       "      <td>731.0</td>\n",
       "      <td>9.0</td>\n",
       "      <td>211.0</td>\n",
       "      <td>0.575130</td>\n",
       "      <td>1.0</td>\n",
       "      <td>0.663866</td>\n",
       "      <td>3.0</td>\n",
       "      <td>1.0</td>\n",
       "      <td>1.0</td>\n",
       "      <td>0.0</td>\n",
       "      <td>...</td>\n",
       "      <td>0.495833</td>\n",
       "      <td>0.100000</td>\n",
       "      <td>1.0</td>\n",
       "      <td>-0.466667</td>\n",
       "      <td>-0.800</td>\n",
       "      <td>-0.133333</td>\n",
       "      <td>0.000000</td>\n",
       "      <td>0.000000</td>\n",
       "      <td>0.500000</td>\n",
       "      <td>0.000000</td>\n",
       "    </tr>\n",
       "    <tr>\n",
       "      <th>3</th>\n",
       "      <td>731.0</td>\n",
       "      <td>9.0</td>\n",
       "      <td>531.0</td>\n",
       "      <td>0.503788</td>\n",
       "      <td>1.0</td>\n",
       "      <td>0.665635</td>\n",
       "      <td>9.0</td>\n",
       "      <td>0.0</td>\n",
       "      <td>1.0</td>\n",
       "      <td>0.0</td>\n",
       "      <td>...</td>\n",
       "      <td>0.385965</td>\n",
       "      <td>0.136364</td>\n",
       "      <td>0.8</td>\n",
       "      <td>-0.369697</td>\n",
       "      <td>-0.600</td>\n",
       "      <td>-0.166667</td>\n",
       "      <td>0.000000</td>\n",
       "      <td>0.000000</td>\n",
       "      <td>0.500000</td>\n",
       "      <td>0.000000</td>\n",
       "    </tr>\n",
       "    <tr>\n",
       "      <th>4</th>\n",
       "      <td>731.0</td>\n",
       "      <td>13.0</td>\n",
       "      <td>1072.0</td>\n",
       "      <td>0.415646</td>\n",
       "      <td>1.0</td>\n",
       "      <td>0.540890</td>\n",
       "      <td>19.0</td>\n",
       "      <td>19.0</td>\n",
       "      <td>20.0</td>\n",
       "      <td>0.0</td>\n",
       "      <td>...</td>\n",
       "      <td>0.411127</td>\n",
       "      <td>0.033333</td>\n",
       "      <td>1.0</td>\n",
       "      <td>-0.220192</td>\n",
       "      <td>-0.500</td>\n",
       "      <td>-0.050000</td>\n",
       "      <td>0.454545</td>\n",
       "      <td>0.136364</td>\n",
       "      <td>0.045455</td>\n",
       "      <td>0.136364</td>\n",
       "    </tr>\n",
       "  </tbody>\n",
       "</table>\n",
       "<p>5 rows × 59 columns</p>\n",
       "</div>"
      ],
      "text/plain": [
       "    timedelta   n_tokens_title   n_tokens_content   n_unique_tokens  \\\n",
       "0       731.0             12.0              219.0          0.663594   \n",
       "1       731.0              9.0              255.0          0.604743   \n",
       "2       731.0              9.0              211.0          0.575130   \n",
       "3       731.0              9.0              531.0          0.503788   \n",
       "4       731.0             13.0             1072.0          0.415646   \n",
       "\n",
       "    n_non_stop_words   n_non_stop_unique_tokens   num_hrefs   num_self_hrefs  \\\n",
       "0                1.0                   0.815385         4.0              2.0   \n",
       "1                1.0                   0.791946         3.0              1.0   \n",
       "2                1.0                   0.663866         3.0              1.0   \n",
       "3                1.0                   0.665635         9.0              0.0   \n",
       "4                1.0                   0.540890        19.0             19.0   \n",
       "\n",
       "    num_imgs   num_videos              ...                \\\n",
       "0        1.0          0.0              ...                 \n",
       "1        1.0          0.0              ...                 \n",
       "2        1.0          0.0              ...                 \n",
       "3        1.0          0.0              ...                 \n",
       "4       20.0          0.0              ...                 \n",
       "\n",
       "    avg_positive_polarity   min_positive_polarity   max_positive_polarity  \\\n",
       "0                0.378636                0.100000                     0.7   \n",
       "1                0.286915                0.033333                     0.7   \n",
       "2                0.495833                0.100000                     1.0   \n",
       "3                0.385965                0.136364                     0.8   \n",
       "4                0.411127                0.033333                     1.0   \n",
       "\n",
       "    avg_negative_polarity   min_negative_polarity   max_negative_polarity  \\\n",
       "0               -0.350000                  -0.600               -0.200000   \n",
       "1               -0.118750                  -0.125               -0.100000   \n",
       "2               -0.466667                  -0.800               -0.133333   \n",
       "3               -0.369697                  -0.600               -0.166667   \n",
       "4               -0.220192                  -0.500               -0.050000   \n",
       "\n",
       "    title_subjectivity   title_sentiment_polarity   abs_title_subjectivity  \\\n",
       "0             0.500000                  -0.187500                 0.000000   \n",
       "1             0.000000                   0.000000                 0.500000   \n",
       "2             0.000000                   0.000000                 0.500000   \n",
       "3             0.000000                   0.000000                 0.500000   \n",
       "4             0.454545                   0.136364                 0.045455   \n",
       "\n",
       "    abs_title_sentiment_polarity  \n",
       "0                       0.187500  \n",
       "1                       0.000000  \n",
       "2                       0.000000  \n",
       "3                       0.000000  \n",
       "4                       0.136364  \n",
       "\n",
       "[5 rows x 59 columns]"
      ]
     },
     "execution_count": 4,
     "metadata": {},
     "output_type": "execute_result"
    }
   ],
   "source": [
    "X = Online_News.iloc[:, :len(Online_News.columns)-1]\n",
    "X.head()"
   ]
  },
  {
   "cell_type": "code",
   "execution_count": 52,
   "metadata": {
    "collapsed": false
   },
   "outputs": [
    {
     "data": {
      "text/plain": [
       "0         2.0\n",
       "1         1.0\n",
       "2         1.0\n",
       "3         0.0\n",
       "4        19.0\n",
       "5         2.0\n",
       "6        20.0\n",
       "7        20.0\n",
       "8         0.0\n",
       "9         1.0\n",
       "10        0.0\n",
       "11        0.0\n",
       "12        2.0\n",
       "13        2.0\n",
       "14        3.0\n",
       "15        0.0\n",
       "16       18.0\n",
       "17        0.0\n",
       "18        1.0\n",
       "19       24.0\n",
       "20       19.0\n",
       "21        2.0\n",
       "22       20.0\n",
       "23        1.0\n",
       "24        2.0\n",
       "25        2.0\n",
       "26        3.0\n",
       "27       22.0\n",
       "28        1.0\n",
       "29        1.0\n",
       "         ... \n",
       "39614     2.0\n",
       "39615     0.0\n",
       "39616     0.0\n",
       "39617     3.0\n",
       "39618     9.0\n",
       "39619     1.0\n",
       "39620     2.0\n",
       "39621     1.0\n",
       "39622     1.0\n",
       "39623     6.0\n",
       "39624     3.0\n",
       "39625     7.0\n",
       "39626     2.0\n",
       "39627     1.0\n",
       "39628     2.0\n",
       "39629     1.0\n",
       "39630     2.0\n",
       "39631     1.0\n",
       "39632     2.0\n",
       "39633     0.0\n",
       "39634    13.0\n",
       "39635     2.0\n",
       "39636     1.0\n",
       "39637    12.0\n",
       "39638     3.0\n",
       "39639     7.0\n",
       "39640     7.0\n",
       "39641     1.0\n",
       "39642     1.0\n",
       "39643     1.0\n",
       "Name:  num_self_hrefs, dtype: float64"
      ]
     },
     "execution_count": 52,
     "metadata": {},
     "output_type": "execute_result"
    }
   ],
   "source": [
    "#X.columns\n",
    "X[\" num_self_hrefs\"]"
   ]
  },
  {
   "cell_type": "code",
   "execution_count": 53,
   "metadata": {
    "collapsed": false
   },
   "outputs": [],
   "source": [
    "# X.plot(x='num_self_hrefs', y='num_hrefs', style='o')\n",
    "import matplotlib.pyplot as plt\n",
    "plt.scatter(X[' num_self_hrefs'], X[' n_unique_tokens'])\n",
    "plt.show()\n"
   ]
  },
  {
   "cell_type": "code",
   "execution_count": 65,
   "metadata": {
    "collapsed": false
   },
   "outputs": [],
   "source": [
    "t= data.iloc[:,1:5]\n",
    "axes = pd.tools.plotting.scatter_matrix(t, alpha=0.2)\n",
    "plt.tight_layout()\n",
    "plt.savefig('scatter_matrix.png')"
   ]
  },
  {
   "cell_type": "code",
   "execution_count": 62,
   "metadata": {
    "collapsed": false
   },
   "outputs": [
    {
     "data": {
      "text/plain": [
       "array([[<matplotlib.axes._subplots.AxesSubplot object at 0x0000000011ABF208>,\n",
       "        <matplotlib.axes._subplots.AxesSubplot object at 0x0000000012539438>,\n",
       "        <matplotlib.axes._subplots.AxesSubplot object at 0x00000000125F3358>,\n",
       "        <matplotlib.axes._subplots.AxesSubplot object at 0x00000000126EAF60>],\n",
       "       [<matplotlib.axes._subplots.AxesSubplot object at 0x000000001278CBE0>,\n",
       "        <matplotlib.axes._subplots.AxesSubplot object at 0x000000001289C9E8>,\n",
       "        <matplotlib.axes._subplots.AxesSubplot object at 0x00000000129332E8>,\n",
       "        <matplotlib.axes._subplots.AxesSubplot object at 0x0000000012A450F0>],\n",
       "       [<matplotlib.axes._subplots.AxesSubplot object at 0x0000000012ABB978>,\n",
       "        <matplotlib.axes._subplots.AxesSubplot object at 0x0000000012BAC4A8>,\n",
       "        <matplotlib.axes._subplots.AxesSubplot object at 0x0000000012CB21D0>,\n",
       "        <matplotlib.axes._subplots.AxesSubplot object at 0x000000000CB058D0>],\n",
       "       [<matplotlib.axes._subplots.AxesSubplot object at 0x0000000012D8EE10>,\n",
       "        <matplotlib.axes._subplots.AxesSubplot object at 0x0000000012E936D8>,\n",
       "        <matplotlib.axes._subplots.AxesSubplot object at 0x0000000012F424A8>,\n",
       "        <matplotlib.axes._subplots.AxesSubplot object at 0x000000001307AD30>]], dtype=object)"
      ]
     },
     "execution_count": 62,
     "metadata": {},
     "output_type": "execute_result"
    }
   ],
   "source": [
    "\n",
    "from pandas.tools.plotting import scatter_matrix\n",
    "scatter_matrix(t, alpha=0.2, figsize=(6, 6), diagonal='kde')\n"
   ]
  },
  {
   "cell_type": "code",
   "execution_count": 61,
   "metadata": {
    "collapsed": false
   },
   "outputs": [
    {
     "ename": "NameError",
     "evalue": "name 'plot' is not defined",
     "output_type": "error",
     "traceback": [
      "\u001b[1;31m---------------------------------------------------------------------------\u001b[0m",
      "\u001b[1;31mNameError\u001b[0m                                 Traceback (most recent call last)",
      "\u001b[1;32m<ipython-input-61-104bfcfa303e>\u001b[0m in \u001b[0;36m<module>\u001b[1;34m()\u001b[0m\n\u001b[1;32m----> 1\u001b[1;33m \u001b[0mplot\u001b[0m\u001b[1;33m.\u001b[0m\u001b[0mshow\u001b[0m\u001b[1;33m(\u001b[0m\u001b[1;33m)\u001b[0m\u001b[1;33m\u001b[0m\u001b[0m\n\u001b[0m",
      "\u001b[1;31mNameError\u001b[0m: name 'plot' is not defined"
     ]
    }
   ],
   "source": [
    "plot.show()"
   ]
  },
  {
   "cell_type": "code",
   "execution_count": 35,
   "metadata": {
    "collapsed": false
   },
   "outputs": [
    {
     "data": {
      "text/plain": [
       "0     593\n",
       "1     711\n",
       "2    1500\n",
       "3    1200\n",
       "4     505\n",
       "Name:  shares, dtype: int64"
      ]
     },
     "execution_count": 35,
     "metadata": {},
     "output_type": "execute_result"
    }
   ],
   "source": [
    "y = Online_News.iloc[:,59]\n",
    "y.head()"
   ]
  },
  {
   "cell_type": "code",
   "execution_count": 36,
   "metadata": {
    "collapsed": false
   },
   "outputs": [
    {
     "name": "stdout",
     "output_type": "stream",
     "text": [
      "<class 'pandas.core.frame.DataFrame'>\n",
      "<class 'pandas.core.frame.DataFrame'>\n",
      "<class 'pandas.core.series.Series'>\n",
      "<class 'pandas.core.series.Series'>\n"
     ]
    }
   ],
   "source": [
    "X_train, X_test, y_train, y_test = train_test_split(X,y, test_size = 0.25, random_state = 1234)\n",
    "\n",
    "print type(X_train)\n",
    "print type(X_test)\n",
    "print type(y_train)\n",
    "print type(y_test)\n"
   ]
  },
  {
   "cell_type": "code",
   "execution_count": 8,
   "metadata": {
    "collapsed": false
   },
   "outputs": [
    {
     "name": "stdout",
     "output_type": "stream",
     "text": [
      "29733\n",
      "9911\n",
      "39644\n",
      "39644\n"
     ]
    }
   ],
   "source": [
    "print len(X_train)\n",
    "print len(y_test)\n",
    "print len(X_train) + len(X_test)\n",
    "print len(X)"
   ]
  },
  {
   "cell_type": "code",
   "execution_count": 9,
   "metadata": {
    "collapsed": false
   },
   "outputs": [],
   "source": [
    "min_max_norm = preprocessing.MinMaxScaler()\n",
    "X_trainnorm = min_max_norm.fit_transform(X_train)\n",
    "X_testnorm = min_max_norm.fit_transform(X_test)\n",
    "\n",
    "X_norm = min_max_norm.fit_transform(X)\n",
    "y_log = np.log10(y)"
   ]
  },
  {
   "cell_type": "code",
   "execution_count": 14,
   "metadata": {
    "collapsed": false
   },
   "outputs": [
    {
     "name": "stdout",
     "output_type": "stream",
     "text": [
      "<type 'numpy.ndarray'>\n",
      "<type 'numpy.ndarray'>\n",
      "[' timedelta' ' n_tokens_title' ' n_tokens_content' ' n_unique_tokens'\n",
      " ' n_non_stop_words' ' n_non_stop_unique_tokens' ' num_hrefs'\n",
      " ' num_self_hrefs' ' num_imgs' ' num_videos' ' average_token_length'\n",
      " ' num_keywords' ' data_channel_is_lifestyle'\n",
      " ' data_channel_is_entertainment' ' data_channel_is_bus'\n",
      " ' data_channel_is_socmed' ' data_channel_is_tech' ' data_channel_is_world'\n",
      " ' kw_min_min' ' kw_max_min' ' kw_avg_min' ' kw_min_max' ' kw_max_max'\n",
      " ' kw_avg_max' ' kw_min_avg' ' kw_max_avg' ' kw_avg_avg'\n",
      " ' self_reference_min_shares' ' self_reference_max_shares'\n",
      " ' self_reference_avg_sharess' ' weekday_is_monday' ' weekday_is_tuesday'\n",
      " ' weekday_is_wednesday' ' weekday_is_thursday' ' weekday_is_friday'\n",
      " ' weekday_is_saturday' ' weekday_is_sunday' ' is_weekend' ' LDA_00'\n",
      " ' LDA_01' ' LDA_02' ' LDA_03' ' LDA_04' ' global_subjectivity'\n",
      " ' global_sentiment_polarity' ' global_rate_positive_words'\n",
      " ' global_rate_negative_words' ' rate_positive_words'\n",
      " ' rate_negative_words' ' avg_positive_polarity' ' min_positive_polarity'\n",
      " ' max_positive_polarity' ' avg_negative_polarity' ' min_negative_polarity'\n",
      " ' max_negative_polarity' ' title_subjectivity' ' title_sentiment_polarity'\n",
      " ' abs_title_subjectivity' ' abs_title_sentiment_polarity']\n"
     ]
    },
    {
     "data": {
      "text/html": [
       "<div>\n",
       "<table border=\"1\" class=\"dataframe\">\n",
       "  <thead>\n",
       "    <tr style=\"text-align: right;\">\n",
       "      <th></th>\n",
       "      <th>timedelta</th>\n",
       "      <th>n_tokens_title</th>\n",
       "      <th>n_tokens_content</th>\n",
       "      <th>n_unique_tokens</th>\n",
       "      <th>n_non_stop_words</th>\n",
       "      <th>n_non_stop_unique_tokens</th>\n",
       "      <th>num_hrefs</th>\n",
       "      <th>num_self_hrefs</th>\n",
       "      <th>num_imgs</th>\n",
       "      <th>num_videos</th>\n",
       "      <th>...</th>\n",
       "      <th>avg_positive_polarity</th>\n",
       "      <th>min_positive_polarity</th>\n",
       "      <th>max_positive_polarity</th>\n",
       "      <th>avg_negative_polarity</th>\n",
       "      <th>min_negative_polarity</th>\n",
       "      <th>max_negative_polarity</th>\n",
       "      <th>title_subjectivity</th>\n",
       "      <th>title_sentiment_polarity</th>\n",
       "      <th>abs_title_subjectivity</th>\n",
       "      <th>abs_title_sentiment_polarity</th>\n",
       "    </tr>\n",
       "  </thead>\n",
       "  <tbody>\n",
       "    <tr>\n",
       "      <th>0</th>\n",
       "      <td>0.181189</td>\n",
       "      <td>0.619048</td>\n",
       "      <td>0.157069</td>\n",
       "      <td>0.000511</td>\n",
       "      <td>0.00096</td>\n",
       "      <td>0.000805</td>\n",
       "      <td>0.036184</td>\n",
       "      <td>0.077586</td>\n",
       "      <td>0.099099</td>\n",
       "      <td>0.000000</td>\n",
       "      <td>...</td>\n",
       "      <td>0.323823</td>\n",
       "      <td>0.100000</td>\n",
       "      <td>1.0</td>\n",
       "      <td>0.752996</td>\n",
       "      <td>0.500000</td>\n",
       "      <td>0.923077</td>\n",
       "      <td>0.000000</td>\n",
       "      <td>0.500000</td>\n",
       "      <td>1.000000</td>\n",
       "      <td>0.000000</td>\n",
       "    </tr>\n",
       "    <tr>\n",
       "      <th>1</th>\n",
       "      <td>0.276625</td>\n",
       "      <td>0.380952</td>\n",
       "      <td>0.257139</td>\n",
       "      <td>0.000443</td>\n",
       "      <td>0.00096</td>\n",
       "      <td>0.000692</td>\n",
       "      <td>0.023026</td>\n",
       "      <td>0.060345</td>\n",
       "      <td>0.270270</td>\n",
       "      <td>0.010989</td>\n",
       "      <td>...</td>\n",
       "      <td>0.427158</td>\n",
       "      <td>0.050000</td>\n",
       "      <td>1.0</td>\n",
       "      <td>0.742920</td>\n",
       "      <td>0.000000</td>\n",
       "      <td>0.900000</td>\n",
       "      <td>0.000000</td>\n",
       "      <td>0.500000</td>\n",
       "      <td>1.000000</td>\n",
       "      <td>0.000000</td>\n",
       "    </tr>\n",
       "    <tr>\n",
       "      <th>2</th>\n",
       "      <td>0.569848</td>\n",
       "      <td>0.285714</td>\n",
       "      <td>0.019235</td>\n",
       "      <td>0.001030</td>\n",
       "      <td>0.00096</td>\n",
       "      <td>0.001228</td>\n",
       "      <td>0.029605</td>\n",
       "      <td>0.051724</td>\n",
       "      <td>0.000000</td>\n",
       "      <td>0.010989</td>\n",
       "      <td>...</td>\n",
       "      <td>0.278745</td>\n",
       "      <td>0.033333</td>\n",
       "      <td>0.6</td>\n",
       "      <td>0.685494</td>\n",
       "      <td>0.400000</td>\n",
       "      <td>0.900000</td>\n",
       "      <td>0.454545</td>\n",
       "      <td>0.568182</td>\n",
       "      <td>0.090909</td>\n",
       "      <td>0.136364</td>\n",
       "    </tr>\n",
       "    <tr>\n",
       "      <th>3</th>\n",
       "      <td>0.098202</td>\n",
       "      <td>0.333333</td>\n",
       "      <td>0.017229</td>\n",
       "      <td>0.000967</td>\n",
       "      <td>0.00096</td>\n",
       "      <td>0.001254</td>\n",
       "      <td>0.003289</td>\n",
       "      <td>0.008621</td>\n",
       "      <td>0.009009</td>\n",
       "      <td>0.010989</td>\n",
       "      <td>...</td>\n",
       "      <td>0.369388</td>\n",
       "      <td>0.100000</td>\n",
       "      <td>0.7</td>\n",
       "      <td>0.844444</td>\n",
       "      <td>0.844444</td>\n",
       "      <td>0.844444</td>\n",
       "      <td>0.000000</td>\n",
       "      <td>0.500000</td>\n",
       "      <td>1.000000</td>\n",
       "      <td>0.000000</td>\n",
       "    </tr>\n",
       "    <tr>\n",
       "      <th>4</th>\n",
       "      <td>0.986169</td>\n",
       "      <td>0.380952</td>\n",
       "      <td>0.046259</td>\n",
       "      <td>0.000809</td>\n",
       "      <td>0.00096</td>\n",
       "      <td>0.001020</td>\n",
       "      <td>0.092105</td>\n",
       "      <td>0.051724</td>\n",
       "      <td>0.099099</td>\n",
       "      <td>0.010989</td>\n",
       "      <td>...</td>\n",
       "      <td>0.288636</td>\n",
       "      <td>0.136364</td>\n",
       "      <td>0.6</td>\n",
       "      <td>0.645833</td>\n",
       "      <td>0.400000</td>\n",
       "      <td>0.900000</td>\n",
       "      <td>0.250000</td>\n",
       "      <td>0.625000</td>\n",
       "      <td>0.500000</td>\n",
       "      <td>0.250000</td>\n",
       "    </tr>\n",
       "  </tbody>\n",
       "</table>\n",
       "<p>5 rows × 59 columns</p>\n",
       "</div>"
      ],
      "text/plain": [
       "    timedelta   n_tokens_title   n_tokens_content   n_unique_tokens  \\\n",
       "0    0.181189         0.619048           0.157069          0.000511   \n",
       "1    0.276625         0.380952           0.257139          0.000443   \n",
       "2    0.569848         0.285714           0.019235          0.001030   \n",
       "3    0.098202         0.333333           0.017229          0.000967   \n",
       "4    0.986169         0.380952           0.046259          0.000809   \n",
       "\n",
       "    n_non_stop_words   n_non_stop_unique_tokens   num_hrefs   num_self_hrefs  \\\n",
       "0            0.00096                   0.000805    0.036184         0.077586   \n",
       "1            0.00096                   0.000692    0.023026         0.060345   \n",
       "2            0.00096                   0.001228    0.029605         0.051724   \n",
       "3            0.00096                   0.001254    0.003289         0.008621   \n",
       "4            0.00096                   0.001020    0.092105         0.051724   \n",
       "\n",
       "    num_imgs   num_videos              ...                \\\n",
       "0   0.099099     0.000000              ...                 \n",
       "1   0.270270     0.010989              ...                 \n",
       "2   0.000000     0.010989              ...                 \n",
       "3   0.009009     0.010989              ...                 \n",
       "4   0.099099     0.010989              ...                 \n",
       "\n",
       "    avg_positive_polarity   min_positive_polarity   max_positive_polarity  \\\n",
       "0                0.323823                0.100000                     1.0   \n",
       "1                0.427158                0.050000                     1.0   \n",
       "2                0.278745                0.033333                     0.6   \n",
       "3                0.369388                0.100000                     0.7   \n",
       "4                0.288636                0.136364                     0.6   \n",
       "\n",
       "    avg_negative_polarity   min_negative_polarity   max_negative_polarity  \\\n",
       "0                0.752996                0.500000                0.923077   \n",
       "1                0.742920                0.000000                0.900000   \n",
       "2                0.685494                0.400000                0.900000   \n",
       "3                0.844444                0.844444                0.844444   \n",
       "4                0.645833                0.400000                0.900000   \n",
       "\n",
       "    title_subjectivity   title_sentiment_polarity   abs_title_subjectivity  \\\n",
       "0             0.000000                   0.500000                 1.000000   \n",
       "1             0.000000                   0.500000                 1.000000   \n",
       "2             0.454545                   0.568182                 0.090909   \n",
       "3             0.000000                   0.500000                 1.000000   \n",
       "4             0.250000                   0.625000                 0.500000   \n",
       "\n",
       "    abs_title_sentiment_polarity  \n",
       "0                       0.000000  \n",
       "1                       0.000000  \n",
       "2                       0.136364  \n",
       "3                       0.000000  \n",
       "4                       0.250000  \n",
       "\n",
       "[5 rows x 59 columns]"
      ]
     },
     "execution_count": 14,
     "metadata": {},
     "output_type": "execute_result"
    }
   ],
   "source": [
    "print type(X_trainnorm)\n",
    "print type(X_testnorm)\n",
    "\n",
    "X_trainnorm = pd.DataFrame(X_trainnorm)\n",
    "X_testnorm = pd.DataFrame(X_testnorm)\n",
    "\n",
    "X_trainnorm.columns = X_train.columns.values\n",
    "X_testnorm.columns = X_test.columns.values\n",
    "\n",
    "print X_trainnorm.columns.values\n",
    "X_trainnorm.head()"
   ]
  },
  {
   "cell_type": "code",
   "execution_count": 15,
   "metadata": {
    "collapsed": false
   },
   "outputs": [],
   "source": [
    "# normalize acc to columns right?\n",
    "# how is it taking?"
   ]
  },
  {
   "cell_type": "code",
   "execution_count": 16,
   "metadata": {
    "collapsed": false
   },
   "outputs": [
    {
     "name": "stdout",
     "output_type": "stream",
     "text": [
      "420.0\n",
      "0.569847856155\n"
     ]
    },
    {
     "data": {
      "text/plain": [
       "0    0.181189\n",
       "1    0.276625\n",
       "2    0.569848\n",
       "3    0.098202\n",
       "4    0.986169\n",
       "Name:  timedelta, dtype: float64"
      ]
     },
     "execution_count": 16,
     "metadata": {},
     "output_type": "execute_result"
    }
   ],
   "source": [
    "a = X_train[' timedelta'].iloc[2]\n",
    "print a\n",
    "\n",
    "mini = X_train[' timedelta'].min()\n",
    "maxi = X_train[' timedelta'].max()\n",
    "print (a - mini) / (maxi - mini)\n",
    "\n",
    "X_trainnorm[' timedelta'].head()"
   ]
  },
  {
   "cell_type": "code",
   "execution_count": 17,
   "metadata": {
    "collapsed": false
   },
   "outputs": [],
   "source": [
    "# Should i normalize the target value too\n",
    "# Should i take log of 10 or log 2 here\n",
    "y_trainlog = np.log10(y_train)\n",
    "y_testlog = np.log10(y_test)"
   ]
  },
  {
   "cell_type": "code",
   "execution_count": 18,
   "metadata": {
    "collapsed": false
   },
   "outputs": [
    {
     "name": "stdout",
     "output_type": "stream",
     "text": [
      "3.07918124605\n",
      "1200\n"
     ]
    }
   ],
   "source": [
    "print y_trainlog.iloc[2]\n",
    "print y_train.iloc[2]"
   ]
  },
  {
   "cell_type": "code",
   "execution_count": 19,
   "metadata": {
    "collapsed": false
   },
   "outputs": [
    {
     "name": "stdout",
     "output_type": "stream",
     "text": [
      "3395.38018363\n",
      "1\n",
      "843300\n"
     ]
    }
   ],
   "source": [
    "print y.mean()\n",
    "print y.min()\n",
    "print y.max()\n",
    "\n",
    "# Distribution of the target variable '# of Shares'\n",
    "# import matplotlib.pyplot as plt\n",
    "# import numpy as np\n",
    "\n",
    "# #import plotly.plotly as py\n",
    "# # Learn about API authentication here: https://plot.ly/python/getting-started\n",
    "# # Find your api_key here: https://plot.ly/settings/api\n",
    "\n",
    "# p2 = plt.hist(y)\n",
    "# plt.show()\n",
    "# p1 = plt.hist(np.log(y))\n",
    "# plt.title(\"#Shares distribution\")\n",
    "# plt.xlabel(\"#Shares value\")\n",
    "# plt.ylabel(\"Frequency\")\n",
    "# plt.show()"
   ]
  },
  {
   "cell_type": "code",
   "execution_count": 20,
   "metadata": {
    "collapsed": false
   },
   "outputs": [],
   "source": [
    "# optimize for k value > feature selection > cross validation\n",
    "\n",
    "min_max_norm = preprocessing.MinMaxScaler()\n",
    "X_norm = min_max_norm.fit_transform(X)\n",
    "y_log = np.log10(y)"
   ]
  },
  {
   "cell_type": "code",
   "execution_count": 21,
   "metadata": {
    "collapsed": false
   },
   "outputs": [
    {
     "name": "stdout",
     "output_type": "stream",
     "text": [
      "    timedelta   n_tokens_title   n_tokens_content   n_unique_tokens  \\\n",
      "0    0.181189         0.619048           0.157069          0.000511   \n",
      "1    0.276625         0.380952           0.257139          0.000443   \n",
      "2    0.569848         0.285714           0.019235          0.001030   \n",
      "3    0.098202         0.333333           0.017229          0.000967   \n",
      "4    0.986169         0.380952           0.046259          0.000809   \n",
      "\n",
      "    n_non_stop_words   n_non_stop_unique_tokens   num_hrefs   num_self_hrefs  \\\n",
      "0            0.00096                   0.000805    0.036184         0.077586   \n",
      "1            0.00096                   0.000692    0.023026         0.060345   \n",
      "2            0.00096                   0.001228    0.029605         0.051724   \n",
      "3            0.00096                   0.001254    0.003289         0.008621   \n",
      "4            0.00096                   0.001020    0.092105         0.051724   \n",
      "\n",
      "    num_imgs   num_videos              ...                \\\n",
      "0   0.099099     0.000000              ...                 \n",
      "1   0.270270     0.010989              ...                 \n",
      "2   0.000000     0.010989              ...                 \n",
      "3   0.009009     0.010989              ...                 \n",
      "4   0.099099     0.010989              ...                 \n",
      "\n",
      "    avg_positive_polarity   min_positive_polarity   max_positive_polarity  \\\n",
      "0                0.323823                0.100000                     1.0   \n",
      "1                0.427158                0.050000                     1.0   \n",
      "2                0.278745                0.033333                     0.6   \n",
      "3                0.369388                0.100000                     0.7   \n",
      "4                0.288636                0.136364                     0.6   \n",
      "\n",
      "    avg_negative_polarity   min_negative_polarity   max_negative_polarity  \\\n",
      "0                0.752996                0.500000                0.923077   \n",
      "1                0.742920                0.000000                0.900000   \n",
      "2                0.685494                0.400000                0.900000   \n",
      "3                0.844444                0.844444                0.844444   \n",
      "4                0.645833                0.400000                0.900000   \n",
      "\n",
      "    title_subjectivity   title_sentiment_polarity   abs_title_subjectivity  \\\n",
      "0             0.000000                   0.500000                 1.000000   \n",
      "1             0.000000                   0.500000                 1.000000   \n",
      "2             0.454545                   0.568182                 0.090909   \n",
      "3             0.000000                   0.500000                 1.000000   \n",
      "4             0.250000                   0.625000                 0.500000   \n",
      "\n",
      "    abs_title_sentiment_polarity  \n",
      "0                       0.000000  \n",
      "1                       0.000000  \n",
      "2                       0.136364  \n",
      "3                       0.000000  \n",
      "4                       0.250000  \n",
      "\n",
      "[5 rows x 59 columns]\n",
      "31253    3.414973\n",
      "26992    3.397940\n",
      "16142    3.079181\n",
      "35131    2.763428\n",
      "582      3.041393\n",
      "Name:  shares, dtype: float64\n"
     ]
    }
   ],
   "source": [
    "print X_trainnorm.head()\n",
    "print y_trainlog.head()"
   ]
  },
  {
   "cell_type": "code",
   "execution_count": 22,
   "metadata": {
    "collapsed": true
   },
   "outputs": [],
   "source": [
    "pca = PCA()\n",
    "pca.fit(X_norm)\n",
    "X_normreduced = pca.transform(X_norm)"
   ]
  },
  {
   "cell_type": "code",
   "execution_count": 23,
   "metadata": {
    "collapsed": false
   },
   "outputs": [
    {
     "name": "stdout",
     "output_type": "stream",
     "text": [
      "(39644L, 59L)\n"
     ]
    },
    {
     "data": {
      "text/html": [
       "<div>\n",
       "<table border=\"1\" class=\"dataframe\">\n",
       "  <thead>\n",
       "    <tr style=\"text-align: right;\">\n",
       "      <th></th>\n",
       "      <th>0</th>\n",
       "      <th>1</th>\n",
       "      <th>2</th>\n",
       "      <th>3</th>\n",
       "      <th>4</th>\n",
       "      <th>5</th>\n",
       "      <th>6</th>\n",
       "      <th>7</th>\n",
       "      <th>8</th>\n",
       "      <th>9</th>\n",
       "      <th>...</th>\n",
       "      <th>49</th>\n",
       "      <th>50</th>\n",
       "      <th>51</th>\n",
       "      <th>52</th>\n",
       "      <th>53</th>\n",
       "      <th>54</th>\n",
       "      <th>55</th>\n",
       "      <th>56</th>\n",
       "      <th>57</th>\n",
       "      <th>58</th>\n",
       "    </tr>\n",
       "  </thead>\n",
       "  <tbody>\n",
       "    <tr>\n",
       "      <th>0</th>\n",
       "      <td>-0.533168</td>\n",
       "      <td>-0.584386</td>\n",
       "      <td>-0.151780</td>\n",
       "      <td>0.077262</td>\n",
       "      <td>-0.277035</td>\n",
       "      <td>0.125086</td>\n",
       "      <td>0.146919</td>\n",
       "      <td>1.180835</td>\n",
       "      <td>0.818095</td>\n",
       "      <td>-0.266384</td>\n",
       "      <td>...</td>\n",
       "      <td>0.008392</td>\n",
       "      <td>-0.000525</td>\n",
       "      <td>0.015913</td>\n",
       "      <td>-0.000772</td>\n",
       "      <td>0.000840</td>\n",
       "      <td>0.000067</td>\n",
       "      <td>-0.000003</td>\n",
       "      <td>-4.888484e-07</td>\n",
       "      <td>6.628102e-16</td>\n",
       "      <td>-2.243265e-16</td>\n",
       "    </tr>\n",
       "    <tr>\n",
       "      <th>1</th>\n",
       "      <td>-0.403413</td>\n",
       "      <td>0.156891</td>\n",
       "      <td>1.294903</td>\n",
       "      <td>-0.168107</td>\n",
       "      <td>0.243924</td>\n",
       "      <td>0.014266</td>\n",
       "      <td>0.093502</td>\n",
       "      <td>1.033110</td>\n",
       "      <td>0.468436</td>\n",
       "      <td>-0.182229</td>\n",
       "      <td>...</td>\n",
       "      <td>0.003873</td>\n",
       "      <td>-0.000319</td>\n",
       "      <td>0.013816</td>\n",
       "      <td>-0.000695</td>\n",
       "      <td>0.002048</td>\n",
       "      <td>0.000069</td>\n",
       "      <td>-0.000038</td>\n",
       "      <td>-1.277705e-06</td>\n",
       "      <td>6.525514e-16</td>\n",
       "      <td>-2.615549e-16</td>\n",
       "    </tr>\n",
       "  </tbody>\n",
       "</table>\n",
       "<p>2 rows × 59 columns</p>\n",
       "</div>"
      ],
      "text/plain": [
       "         0         1         2         3         4         5         6   \\\n",
       "0 -0.533168 -0.584386 -0.151780  0.077262 -0.277035  0.125086  0.146919   \n",
       "1 -0.403413  0.156891  1.294903 -0.168107  0.243924  0.014266  0.093502   \n",
       "\n",
       "         7         8         9       ...             49        50        51  \\\n",
       "0  1.180835  0.818095 -0.266384      ...       0.008392 -0.000525  0.015913   \n",
       "1  1.033110  0.468436 -0.182229      ...       0.003873 -0.000319  0.013816   \n",
       "\n",
       "         52        53        54        55            56            57  \\\n",
       "0 -0.000772  0.000840  0.000067 -0.000003 -4.888484e-07  6.628102e-16   \n",
       "1 -0.000695  0.002048  0.000069 -0.000038 -1.277705e-06  6.525514e-16   \n",
       "\n",
       "             58  \n",
       "0 -2.243265e-16  \n",
       "1 -2.615549e-16  \n",
       "\n",
       "[2 rows x 59 columns]"
      ]
     },
     "execution_count": 23,
     "metadata": {},
     "output_type": "execute_result"
    }
   ],
   "source": [
    "print X_normreduced.shape\n",
    "X_normreduced = pd.DataFrame(X_normreduced)\n",
    "X_normreduced.head(2)"
   ]
  },
  {
   "cell_type": "code",
   "execution_count": 24,
   "metadata": {
    "collapsed": false
   },
   "outputs": [
    {
     "name": "stdout",
     "output_type": "stream",
     "text": [
      "[ True  True  True  True  True  True  True  True  True  True  True  True\n",
      "  True  True  True  True  True  True  True  True  True  True  True  True\n",
      "  True  True  True  True False False False False False False False False\n",
      " False False False False False False False False False False False False\n",
      " False False False False False False False False False False False]\n",
      "(39644, 28)\n"
     ]
    },
    {
     "data": {
      "text/html": [
       "<div>\n",
       "<table border=\"1\" class=\"dataframe\">\n",
       "  <thead>\n",
       "    <tr style=\"text-align: right;\">\n",
       "      <th></th>\n",
       "      <th>0</th>\n",
       "      <th>1</th>\n",
       "      <th>2</th>\n",
       "      <th>3</th>\n",
       "      <th>4</th>\n",
       "      <th>5</th>\n",
       "      <th>6</th>\n",
       "      <th>7</th>\n",
       "      <th>8</th>\n",
       "      <th>9</th>\n",
       "      <th>...</th>\n",
       "      <th>18</th>\n",
       "      <th>19</th>\n",
       "      <th>20</th>\n",
       "      <th>21</th>\n",
       "      <th>22</th>\n",
       "      <th>23</th>\n",
       "      <th>24</th>\n",
       "      <th>25</th>\n",
       "      <th>26</th>\n",
       "      <th>27</th>\n",
       "    </tr>\n",
       "  </thead>\n",
       "  <tbody>\n",
       "    <tr>\n",
       "      <th>0</th>\n",
       "      <td>-0.533168</td>\n",
       "      <td>-0.584386</td>\n",
       "      <td>-0.151780</td>\n",
       "      <td>0.077262</td>\n",
       "      <td>-0.277035</td>\n",
       "      <td>0.125086</td>\n",
       "      <td>0.146919</td>\n",
       "      <td>1.180835</td>\n",
       "      <td>0.818095</td>\n",
       "      <td>-0.266384</td>\n",
       "      <td>...</td>\n",
       "      <td>-0.240721</td>\n",
       "      <td>-0.131677</td>\n",
       "      <td>-0.010380</td>\n",
       "      <td>0.168660</td>\n",
       "      <td>-0.086662</td>\n",
       "      <td>-0.167720</td>\n",
       "      <td>0.315883</td>\n",
       "      <td>0.082610</td>\n",
       "      <td>0.121564</td>\n",
       "      <td>0.012785</td>\n",
       "    </tr>\n",
       "    <tr>\n",
       "      <th>1</th>\n",
       "      <td>-0.403413</td>\n",
       "      <td>0.156891</td>\n",
       "      <td>1.294903</td>\n",
       "      <td>-0.168107</td>\n",
       "      <td>0.243924</td>\n",
       "      <td>0.014266</td>\n",
       "      <td>0.093502</td>\n",
       "      <td>1.033110</td>\n",
       "      <td>0.468436</td>\n",
       "      <td>-0.182229</td>\n",
       "      <td>...</td>\n",
       "      <td>-0.265101</td>\n",
       "      <td>0.000300</td>\n",
       "      <td>0.037394</td>\n",
       "      <td>-0.108537</td>\n",
       "      <td>-0.033147</td>\n",
       "      <td>0.001019</td>\n",
       "      <td>0.102201</td>\n",
       "      <td>0.020963</td>\n",
       "      <td>-0.006558</td>\n",
       "      <td>-0.069796</td>\n",
       "    </tr>\n",
       "  </tbody>\n",
       "</table>\n",
       "<p>2 rows × 28 columns</p>\n",
       "</div>"
      ],
      "text/plain": [
       "         0         1         2         3         4         5         6   \\\n",
       "0 -0.533168 -0.584386 -0.151780  0.077262 -0.277035  0.125086  0.146919   \n",
       "1 -0.403413  0.156891  1.294903 -0.168107  0.243924  0.014266  0.093502   \n",
       "\n",
       "         7         8         9     ...           18        19        20  \\\n",
       "0  1.180835  0.818095 -0.266384    ...    -0.240721 -0.131677 -0.010380   \n",
       "1  1.033110  0.468436 -0.182229    ...    -0.265101  0.000300  0.037394   \n",
       "\n",
       "         21        22        23        24        25        26        27  \n",
       "0  0.168660 -0.086662 -0.167720  0.315883  0.082610  0.121564  0.012785  \n",
       "1 -0.108537 -0.033147  0.001019  0.102201  0.020963 -0.006558 -0.069796  \n",
       "\n",
       "[2 rows x 28 columns]"
      ]
     },
     "execution_count": 24,
     "metadata": {},
     "output_type": "execute_result"
    }
   ],
   "source": [
    "print pca.explained_variance_ratio_.cumsum()<0.98\n",
    "X_normreduced = X_normreduced.loc[:,pca.explained_variance_ratio_.cumsum()<0.98]\n",
    "print X_normreduced.shape\n",
    "X_normreduced.head(2)"
   ]
  },
  {
   "cell_type": "code",
   "execution_count": 25,
   "metadata": {
    "collapsed": true
   },
   "outputs": [],
   "source": [
    "from sklearn.ensemble import GradientBoostingRegressor"
   ]
  },
  {
   "cell_type": "code",
   "execution_count": 26,
   "metadata": {
    "collapsed": false
   },
   "outputs": [
    {
     "name": "stdout",
     "output_type": "stream",
     "text": [
      "39644\n",
      "39644\n"
     ]
    }
   ],
   "source": [
    "from sklearn.cross_validation import train_test_split\n",
    "X_train, X_test, y_train, y_test = train_test_split(X_normreduced,y_log, test_size = 0.25, random_state = 4)\n",
    "len(y_test)\n",
    "print len(y_train)+ len(y_test)\n",
    "print len(X_train)+ len(X_test)\n"
   ]
  },
  {
   "cell_type": "code",
   "execution_count": 27,
   "metadata": {
    "collapsed": false
   },
   "outputs": [],
   "source": [
    "from sklearn import linear_model\n",
    "from sklearn.linear_model import LinearRegression \n",
    "clf = LinearRegression(copy_X=True, fit_intercept=True, n_jobs=1, normalize=False)\n",
    "clf_lasso = linear_model.Lasso(alpha = 0.1)\n",
    "clf_ridge = linear_model.Ridge (alpha = .5)"
   ]
  },
  {
   "cell_type": "code",
   "execution_count": 28,
   "metadata": {
    "collapsed": false
   },
   "outputs": [
    {
     "data": {
      "text/plain": [
       "Ridge(alpha=0.5, copy_X=True, fit_intercept=True, max_iter=None,\n",
       "   normalize=False, random_state=None, solver='auto', tol=0.001)"
      ]
     },
     "execution_count": 28,
     "metadata": {},
     "output_type": "execute_result"
    }
   ],
   "source": [
    "clf.fit(X_train, y_train)\n",
    "clf_lasso.fit(X_train, y_train)\n",
    "clf_ridge.fit(X_train, y_train)"
   ]
  },
  {
   "cell_type": "code",
   "execution_count": 31,
   "metadata": {
    "collapsed": true
   },
   "outputs": [],
   "source": [
    "y_pred = clf.predict(X_test)\n",
    "y_pred_lasso = clf_lasso.predict(X_test)\n",
    "y_pred_ridge = clf_ridge.predict(X_test)"
   ]
  },
  {
   "cell_type": "code",
   "execution_count": 36,
   "metadata": {
    "collapsed": false
   },
   "outputs": [
    {
     "name": "stdout",
     "output_type": "stream",
     "text": [
      "2.43017837768\n",
      "2.53200883964\n",
      "2.43017903225\n"
     ]
    }
   ],
   "source": [
    "mse = mean_squared_error(y_test, y_pred)\n",
    "print pow(10,np.sqrt(mse))\n",
    "mse_lasso = mean_squared_error(y_test, y_pred_lasso)\n",
    "print pow(10,np.sqrt(mse_lasso))\n",
    "mse_ridge = mean_squared_error(y_test, y_pred_ridge)\n",
    "print pow(10,np.sqrt(mse_ridge))"
   ]
  },
  {
   "cell_type": "markdown",
   "metadata": {
    "collapsed": true
   },
   "source": [
    "##Without PCA - LR\n"
   ]
  },
  {
   "cell_type": "code",
   "execution_count": 11,
   "metadata": {
    "collapsed": true
   },
   "outputs": [],
   "source": [
    "X_train, X_test, y_train, y_test = train_test_split(X_norm,y_log, test_size = 0.25, random_state = 1234)"
   ]
  },
  {
   "cell_type": "code",
   "execution_count": 12,
   "metadata": {
    "collapsed": true
   },
   "outputs": [],
   "source": [
    "from sklearn import linear_model\n",
    "from sklearn.linear_model import LinearRegression \n",
    "clf = LinearRegression(copy_X=True, fit_intercept=True, n_jobs=1, normalize=False)"
   ]
  },
  {
   "cell_type": "code",
   "execution_count": 13,
   "metadata": {
    "collapsed": true
   },
   "outputs": [],
   "source": [
    "clf.fit(X_train, y_train)\n",
    "y_pred = clf.predict(X_test)"
   ]
  },
  {
   "cell_type": "code",
   "execution_count": 14,
   "metadata": {
    "collapsed": false
   },
   "outputs": [
    {
     "name": "stdout",
     "output_type": "stream",
     "text": [
      "2.38394580266\n"
     ]
    }
   ],
   "source": [
    "mse = mean_squared_error(y_test, y_pred)\n",
    "print pow(10,np.sqrt(mse))"
   ]
  },
  {
   "cell_type": "code",
   "execution_count": 17,
   "metadata": {
    "collapsed": false
   },
   "outputs": [
    {
     "name": "stdout",
     "output_type": "stream",
     "text": [
      "[' timedelta' ' n_tokens_title' ' n_tokens_content' ' n_unique_tokens'\n",
      " ' n_non_stop_words' ' n_non_stop_unique_tokens' ' num_hrefs'\n",
      " ' num_self_hrefs' ' num_imgs' ' num_videos' ' average_token_length'\n",
      " ' num_keywords' ' data_channel_is_lifestyle'\n",
      " ' data_channel_is_entertainment' ' data_channel_is_bus'\n",
      " ' data_channel_is_socmed' ' data_channel_is_tech' ' data_channel_is_world'\n",
      " ' kw_min_min' ' kw_max_min' ' kw_avg_min' ' kw_min_max' ' kw_max_max'\n",
      " ' kw_avg_max' ' kw_min_avg' ' kw_max_avg' ' kw_avg_avg'\n",
      " ' self_reference_min_shares' ' self_reference_max_shares'\n",
      " ' self_reference_avg_sharess' ' weekday_is_monday' ' weekday_is_tuesday'\n",
      " ' weekday_is_wednesday' ' weekday_is_thursday' ' weekday_is_friday'\n",
      " ' weekday_is_saturday' ' weekday_is_sunday' ' is_weekend' ' LDA_00'\n",
      " ' LDA_01' ' LDA_02' ' LDA_03' ' LDA_04' ' global_subjectivity'\n",
      " ' global_sentiment_polarity' ' global_rate_positive_words'\n",
      " ' global_rate_negative_words' ' rate_positive_words'\n",
      " ' rate_negative_words' ' avg_positive_polarity' ' min_positive_polarity'\n",
      " ' max_positive_polarity' ' avg_negative_polarity' ' min_negative_polarity'\n",
      " ' max_negative_polarity' ' title_subjectivity' ' title_sentiment_polarity'\n",
      " ' abs_title_subjectivity' ' abs_title_sentiment_polarity']\n"
     ]
    }
   ],
   "source": [
    "clf.coef_\n",
    "print X.columns.values\n"
   ]
  },
  {
   "cell_type": "code",
   "execution_count": 19,
   "metadata": {
    "collapsed": false
   },
   "outputs": [
    {
     "ename": "SyntaxError",
     "evalue": "keyword can't be an expression (<ipython-input-19-3aad142e18bb>, line 1)",
     "output_type": "error",
     "traceback": [
      "\u001b[1;36m  File \u001b[1;32m\"<ipython-input-19-3aad142e18bb>\"\u001b[1;36m, line \u001b[1;32m1\u001b[0m\n\u001b[1;33m    df = pd.DataFrame('Drivers' = X.columns.values, 'Coef' = clf.coef_ )\u001b[0m\n\u001b[1;31mSyntaxError\u001b[0m\u001b[1;31m:\u001b[0m keyword can't be an expression\n"
     ]
    }
   ],
   "source": [
    "df = pd.DataFrame('Drivers' = X.columns.values, 'Coef' = clf.coef_ )"
   ]
  },
  {
   "cell_type": "code",
   "execution_count": 32,
   "metadata": {
    "collapsed": false
   },
   "outputs": [
    {
     "name": "stdout",
     "output_type": "stream",
     "text": [
      "                           Drivers       Coef\n",
      "0                        timedelta   0.017523\n",
      "1                   n_tokens_title   0.033731\n",
      "2                 n_tokens_content   0.200299\n",
      "3                  n_unique_tokens  75.469673\n",
      "4                 n_non_stop_words  73.502311\n",
      "5         n_non_stop_unique_tokens -88.963730\n",
      "6                        num_hrefs   0.557085\n",
      "7                   num_self_hrefs  -0.406931\n",
      "8                         num_imgs   0.117832\n",
      "9                       num_videos   0.043840\n",
      "10            average_token_length  -0.376914\n",
      "11                    num_keywords   0.043233\n",
      "12       data_channel_is_lifestyle  -0.045117\n",
      "13   data_channel_is_entertainment  -0.075198\n",
      "14             data_channel_is_bus  -0.070483\n",
      "15          data_channel_is_socmed   0.064608\n",
      "16            data_channel_is_tech   0.050471\n",
      "17           data_channel_is_world  -0.017064\n",
      "18                      kw_min_min   0.141422\n",
      "19                      kw_max_min   1.277307\n",
      "20                      kw_avg_min  -1.434546\n",
      "21                      kw_min_max  -0.090510\n",
      "22                      kw_max_max   0.022069\n",
      "23                      kw_avg_max  -0.112562\n",
      "24                      kw_min_avg  -0.079639\n",
      "25                      kw_max_avg  -5.430284\n",
      "26                      kw_avg_avg   6.452889\n",
      "27       self_reference_min_shares   0.103711\n",
      "28       self_reference_max_shares   0.013386\n",
      "29      self_reference_avg_sharess   0.593796\n",
      "30               weekday_is_monday   0.001018\n",
      "31              weekday_is_tuesday  -0.025256\n",
      "32            weekday_is_wednesday  -0.027442\n",
      "33             weekday_is_thursday  -0.022983\n",
      "34               weekday_is_friday   0.008048\n",
      "35             weekday_is_saturday   0.034203\n",
      "36               weekday_is_sunday   0.032412\n",
      "37                      is_weekend   0.066615\n",
      "38                          LDA_00  54.985111\n",
      "39                          LDA_01  54.765843\n",
      "40                          LDA_02  54.386168\n",
      "41                          LDA_03  54.814258\n",
      "42                          LDA_04  54.898160\n",
      "43             global_subjectivity   0.187118\n",
      "44       global_sentiment_polarity  -0.064728\n",
      "45      global_rate_positive_words  -0.099176\n",
      "46      global_rate_negative_words   0.029938\n",
      "47             rate_positive_words   0.111857\n",
      "48             rate_negative_words   0.046599\n",
      "49           avg_positive_polarity   0.012496\n",
      "50           min_positive_polarity  -0.110529\n",
      "51           max_positive_polarity  -0.020852\n",
      "52           avg_negative_polarity  -0.088965\n",
      "53           min_negative_polarity   0.007529\n",
      "54           max_negative_polarity   0.049979\n",
      "55              title_subjectivity   0.022660\n",
      "56        title_sentiment_polarity   0.077765\n",
      "57          abs_title_subjectivity   0.032588\n",
      "58    abs_title_sentiment_polarity   0.019360\n"
     ]
    }
   ],
   "source": [
    "a = X.columns.values\n",
    "Coef_Dataframe = pd.DataFrame({'Drivers' : a, 'Coef' : clf.coef_})\n",
    "Coef_Dataframe = Coef_Dataframe[['Drivers', 'Coef']]\n",
    "print Coef_Dataframe"
   ]
  }
 ],
 "metadata": {
  "anaconda-cloud": {},
  "kernelspec": {
   "display_name": "Python [conda root]",
   "language": "python",
   "name": "conda-root-py"
  },
  "language_info": {
   "codemirror_mode": {
    "name": "ipython",
    "version": 2
   },
   "file_extension": ".py",
   "mimetype": "text/x-python",
   "name": "python",
   "nbconvert_exporter": "python",
   "pygments_lexer": "ipython2",
   "version": "2.7.12"
  }
 },
 "nbformat": 4,
 "nbformat_minor": 0
}
