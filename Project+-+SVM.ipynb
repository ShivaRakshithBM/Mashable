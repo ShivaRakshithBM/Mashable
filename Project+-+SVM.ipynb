{
 "cells": [
  {
   "cell_type": "code",
   "execution_count": 1,
   "metadata": {
    "collapsed": false
   },
   "outputs": [
    {
     "name": "stderr",
     "output_type": "stream",
     "text": [
      "C:\\Users\\Shiva\\Anaconda2\\lib\\sklearn\\cross_validation.py:44: DeprecationWarning: This module was deprecated in version 0.18 in favor of the model_selection module into which all the refactored classes and functions are moved. Also note that the interface of the new CV iterators are different from that of this module. This module will be removed in 0.20.\n",
      "  \"This module will be removed in 0.20.\", DeprecationWarning)\n",
      "C:\\Users\\Shiva\\Anaconda2\\lib\\sklearn\\grid_search.py:43: DeprecationWarning: This module was deprecated in version 0.18 in favor of the model_selection module into which all the refactored classes and functions are moved. This module will be removed in 0.20.\n",
      "  DeprecationWarning)\n"
     ]
    }
   ],
   "source": [
    "import numpy as np\n",
    "import pandas as pd\n",
    "from sklearn import metrics\n",
    "from sklearn.cross_validation import train_test_split\n",
    "from sklearn import preprocessing\n",
    "from sklearn import cross_validation\n",
    "from sklearn.cross_validation import cross_val_score\n",
    "from sklearn.cross_validation import train_test_split\n",
    "from sklearn.grid_search import GridSearchCV\n",
    "from sklearn.decomposition import PCA\n",
    "from sklearn.grid_search import RandomizedSearchCV\n",
    "from sklearn import svm\n",
    "from sklearn.svm import SVR"
   ]
  },
  {
   "cell_type": "code",
   "execution_count": 2,
   "metadata": {
    "collapsed": true
   },
   "outputs": [],
   "source": [
    "import os\n",
    "os.chdir('C:\\\\Carlson MSBA\\\\Fall\\\\Predictive analytics\\\\Project')\n",
    "data = pd.read_csv(\"OnlineNewsPopularity.csv\")\n",
    "Online_News = data.iloc[:,1:]"
   ]
  },
  {
   "cell_type": "code",
   "execution_count": 3,
   "metadata": {
    "collapsed": false
   },
   "outputs": [
    {
     "data": {
      "text/html": [
       "<div>\n",
       "<table border=\"1\" class=\"dataframe\">\n",
       "  <thead>\n",
       "    <tr style=\"text-align: right;\">\n",
       "      <th></th>\n",
       "      <th>timedelta</th>\n",
       "      <th>n_tokens_title</th>\n",
       "      <th>n_tokens_content</th>\n",
       "      <th>n_unique_tokens</th>\n",
       "      <th>n_non_stop_words</th>\n",
       "      <th>n_non_stop_unique_tokens</th>\n",
       "      <th>num_hrefs</th>\n",
       "      <th>num_self_hrefs</th>\n",
       "      <th>num_imgs</th>\n",
       "      <th>num_videos</th>\n",
       "      <th>...</th>\n",
       "      <th>min_positive_polarity</th>\n",
       "      <th>max_positive_polarity</th>\n",
       "      <th>avg_negative_polarity</th>\n",
       "      <th>min_negative_polarity</th>\n",
       "      <th>max_negative_polarity</th>\n",
       "      <th>title_subjectivity</th>\n",
       "      <th>title_sentiment_polarity</th>\n",
       "      <th>abs_title_subjectivity</th>\n",
       "      <th>abs_title_sentiment_polarity</th>\n",
       "      <th>shares</th>\n",
       "    </tr>\n",
       "  </thead>\n",
       "  <tbody>\n",
       "    <tr>\n",
       "      <th>0</th>\n",
       "      <td>731.0</td>\n",
       "      <td>12.0</td>\n",
       "      <td>219.0</td>\n",
       "      <td>0.663594</td>\n",
       "      <td>1.0</td>\n",
       "      <td>0.815385</td>\n",
       "      <td>4.0</td>\n",
       "      <td>2.0</td>\n",
       "      <td>1.0</td>\n",
       "      <td>0.0</td>\n",
       "      <td>...</td>\n",
       "      <td>0.100000</td>\n",
       "      <td>0.7</td>\n",
       "      <td>-0.350000</td>\n",
       "      <td>-0.600</td>\n",
       "      <td>-0.200000</td>\n",
       "      <td>0.500000</td>\n",
       "      <td>-0.187500</td>\n",
       "      <td>0.000000</td>\n",
       "      <td>0.187500</td>\n",
       "      <td>593</td>\n",
       "    </tr>\n",
       "    <tr>\n",
       "      <th>1</th>\n",
       "      <td>731.0</td>\n",
       "      <td>9.0</td>\n",
       "      <td>255.0</td>\n",
       "      <td>0.604743</td>\n",
       "      <td>1.0</td>\n",
       "      <td>0.791946</td>\n",
       "      <td>3.0</td>\n",
       "      <td>1.0</td>\n",
       "      <td>1.0</td>\n",
       "      <td>0.0</td>\n",
       "      <td>...</td>\n",
       "      <td>0.033333</td>\n",
       "      <td>0.7</td>\n",
       "      <td>-0.118750</td>\n",
       "      <td>-0.125</td>\n",
       "      <td>-0.100000</td>\n",
       "      <td>0.000000</td>\n",
       "      <td>0.000000</td>\n",
       "      <td>0.500000</td>\n",
       "      <td>0.000000</td>\n",
       "      <td>711</td>\n",
       "    </tr>\n",
       "    <tr>\n",
       "      <th>2</th>\n",
       "      <td>731.0</td>\n",
       "      <td>9.0</td>\n",
       "      <td>211.0</td>\n",
       "      <td>0.575130</td>\n",
       "      <td>1.0</td>\n",
       "      <td>0.663866</td>\n",
       "      <td>3.0</td>\n",
       "      <td>1.0</td>\n",
       "      <td>1.0</td>\n",
       "      <td>0.0</td>\n",
       "      <td>...</td>\n",
       "      <td>0.100000</td>\n",
       "      <td>1.0</td>\n",
       "      <td>-0.466667</td>\n",
       "      <td>-0.800</td>\n",
       "      <td>-0.133333</td>\n",
       "      <td>0.000000</td>\n",
       "      <td>0.000000</td>\n",
       "      <td>0.500000</td>\n",
       "      <td>0.000000</td>\n",
       "      <td>1500</td>\n",
       "    </tr>\n",
       "    <tr>\n",
       "      <th>3</th>\n",
       "      <td>731.0</td>\n",
       "      <td>9.0</td>\n",
       "      <td>531.0</td>\n",
       "      <td>0.503788</td>\n",
       "      <td>1.0</td>\n",
       "      <td>0.665635</td>\n",
       "      <td>9.0</td>\n",
       "      <td>0.0</td>\n",
       "      <td>1.0</td>\n",
       "      <td>0.0</td>\n",
       "      <td>...</td>\n",
       "      <td>0.136364</td>\n",
       "      <td>0.8</td>\n",
       "      <td>-0.369697</td>\n",
       "      <td>-0.600</td>\n",
       "      <td>-0.166667</td>\n",
       "      <td>0.000000</td>\n",
       "      <td>0.000000</td>\n",
       "      <td>0.500000</td>\n",
       "      <td>0.000000</td>\n",
       "      <td>1200</td>\n",
       "    </tr>\n",
       "    <tr>\n",
       "      <th>4</th>\n",
       "      <td>731.0</td>\n",
       "      <td>13.0</td>\n",
       "      <td>1072.0</td>\n",
       "      <td>0.415646</td>\n",
       "      <td>1.0</td>\n",
       "      <td>0.540890</td>\n",
       "      <td>19.0</td>\n",
       "      <td>19.0</td>\n",
       "      <td>20.0</td>\n",
       "      <td>0.0</td>\n",
       "      <td>...</td>\n",
       "      <td>0.033333</td>\n",
       "      <td>1.0</td>\n",
       "      <td>-0.220192</td>\n",
       "      <td>-0.500</td>\n",
       "      <td>-0.050000</td>\n",
       "      <td>0.454545</td>\n",
       "      <td>0.136364</td>\n",
       "      <td>0.045455</td>\n",
       "      <td>0.136364</td>\n",
       "      <td>505</td>\n",
       "    </tr>\n",
       "  </tbody>\n",
       "</table>\n",
       "<p>5 rows × 60 columns</p>\n",
       "</div>"
      ],
      "text/plain": [
       "    timedelta   n_tokens_title   n_tokens_content   n_unique_tokens  \\\n",
       "0       731.0             12.0              219.0          0.663594   \n",
       "1       731.0              9.0              255.0          0.604743   \n",
       "2       731.0              9.0              211.0          0.575130   \n",
       "3       731.0              9.0              531.0          0.503788   \n",
       "4       731.0             13.0             1072.0          0.415646   \n",
       "\n",
       "    n_non_stop_words   n_non_stop_unique_tokens   num_hrefs   num_self_hrefs  \\\n",
       "0                1.0                   0.815385         4.0              2.0   \n",
       "1                1.0                   0.791946         3.0              1.0   \n",
       "2                1.0                   0.663866         3.0              1.0   \n",
       "3                1.0                   0.665635         9.0              0.0   \n",
       "4                1.0                   0.540890        19.0             19.0   \n",
       "\n",
       "    num_imgs   num_videos   ...      min_positive_polarity  \\\n",
       "0        1.0          0.0   ...                   0.100000   \n",
       "1        1.0          0.0   ...                   0.033333   \n",
       "2        1.0          0.0   ...                   0.100000   \n",
       "3        1.0          0.0   ...                   0.136364   \n",
       "4       20.0          0.0   ...                   0.033333   \n",
       "\n",
       "    max_positive_polarity   avg_negative_polarity   min_negative_polarity  \\\n",
       "0                     0.7               -0.350000                  -0.600   \n",
       "1                     0.7               -0.118750                  -0.125   \n",
       "2                     1.0               -0.466667                  -0.800   \n",
       "3                     0.8               -0.369697                  -0.600   \n",
       "4                     1.0               -0.220192                  -0.500   \n",
       "\n",
       "    max_negative_polarity   title_subjectivity   title_sentiment_polarity  \\\n",
       "0               -0.200000             0.500000                  -0.187500   \n",
       "1               -0.100000             0.000000                   0.000000   \n",
       "2               -0.133333             0.000000                   0.000000   \n",
       "3               -0.166667             0.000000                   0.000000   \n",
       "4               -0.050000             0.454545                   0.136364   \n",
       "\n",
       "    abs_title_subjectivity   abs_title_sentiment_polarity   shares  \n",
       "0                 0.000000                       0.187500      593  \n",
       "1                 0.500000                       0.000000      711  \n",
       "2                 0.500000                       0.000000     1500  \n",
       "3                 0.500000                       0.000000     1200  \n",
       "4                 0.045455                       0.136364      505  \n",
       "\n",
       "[5 rows x 60 columns]"
      ]
     },
     "execution_count": 3,
     "metadata": {},
     "output_type": "execute_result"
    }
   ],
   "source": [
    "Online_News.head()"
   ]
  },
  {
   "cell_type": "code",
   "execution_count": 4,
   "metadata": {
    "collapsed": false
   },
   "outputs": [
    {
     "data": {
      "text/html": [
       "<div>\n",
       "<table border=\"1\" class=\"dataframe\">\n",
       "  <thead>\n",
       "    <tr style=\"text-align: right;\">\n",
       "      <th></th>\n",
       "      <th>timedelta</th>\n",
       "      <th>n_tokens_title</th>\n",
       "      <th>n_tokens_content</th>\n",
       "      <th>n_unique_tokens</th>\n",
       "      <th>n_non_stop_words</th>\n",
       "      <th>n_non_stop_unique_tokens</th>\n",
       "      <th>num_hrefs</th>\n",
       "      <th>num_self_hrefs</th>\n",
       "      <th>num_imgs</th>\n",
       "      <th>num_videos</th>\n",
       "      <th>...</th>\n",
       "      <th>avg_positive_polarity</th>\n",
       "      <th>min_positive_polarity</th>\n",
       "      <th>max_positive_polarity</th>\n",
       "      <th>avg_negative_polarity</th>\n",
       "      <th>min_negative_polarity</th>\n",
       "      <th>max_negative_polarity</th>\n",
       "      <th>title_subjectivity</th>\n",
       "      <th>title_sentiment_polarity</th>\n",
       "      <th>abs_title_subjectivity</th>\n",
       "      <th>abs_title_sentiment_polarity</th>\n",
       "    </tr>\n",
       "  </thead>\n",
       "  <tbody>\n",
       "    <tr>\n",
       "      <th>0</th>\n",
       "      <td>731.0</td>\n",
       "      <td>12.0</td>\n",
       "      <td>219.0</td>\n",
       "      <td>0.663594</td>\n",
       "      <td>1.0</td>\n",
       "      <td>0.815385</td>\n",
       "      <td>4.0</td>\n",
       "      <td>2.0</td>\n",
       "      <td>1.0</td>\n",
       "      <td>0.0</td>\n",
       "      <td>...</td>\n",
       "      <td>0.378636</td>\n",
       "      <td>0.100000</td>\n",
       "      <td>0.7</td>\n",
       "      <td>-0.350000</td>\n",
       "      <td>-0.600</td>\n",
       "      <td>-0.200000</td>\n",
       "      <td>0.500000</td>\n",
       "      <td>-0.187500</td>\n",
       "      <td>0.000000</td>\n",
       "      <td>0.187500</td>\n",
       "    </tr>\n",
       "    <tr>\n",
       "      <th>1</th>\n",
       "      <td>731.0</td>\n",
       "      <td>9.0</td>\n",
       "      <td>255.0</td>\n",
       "      <td>0.604743</td>\n",
       "      <td>1.0</td>\n",
       "      <td>0.791946</td>\n",
       "      <td>3.0</td>\n",
       "      <td>1.0</td>\n",
       "      <td>1.0</td>\n",
       "      <td>0.0</td>\n",
       "      <td>...</td>\n",
       "      <td>0.286915</td>\n",
       "      <td>0.033333</td>\n",
       "      <td>0.7</td>\n",
       "      <td>-0.118750</td>\n",
       "      <td>-0.125</td>\n",
       "      <td>-0.100000</td>\n",
       "      <td>0.000000</td>\n",
       "      <td>0.000000</td>\n",
       "      <td>0.500000</td>\n",
       "      <td>0.000000</td>\n",
       "    </tr>\n",
       "    <tr>\n",
       "      <th>2</th>\n",
       "      <td>731.0</td>\n",
       "      <td>9.0</td>\n",
       "      <td>211.0</td>\n",
       "      <td>0.575130</td>\n",
       "      <td>1.0</td>\n",
       "      <td>0.663866</td>\n",
       "      <td>3.0</td>\n",
       "      <td>1.0</td>\n",
       "      <td>1.0</td>\n",
       "      <td>0.0</td>\n",
       "      <td>...</td>\n",
       "      <td>0.495833</td>\n",
       "      <td>0.100000</td>\n",
       "      <td>1.0</td>\n",
       "      <td>-0.466667</td>\n",
       "      <td>-0.800</td>\n",
       "      <td>-0.133333</td>\n",
       "      <td>0.000000</td>\n",
       "      <td>0.000000</td>\n",
       "      <td>0.500000</td>\n",
       "      <td>0.000000</td>\n",
       "    </tr>\n",
       "    <tr>\n",
       "      <th>3</th>\n",
       "      <td>731.0</td>\n",
       "      <td>9.0</td>\n",
       "      <td>531.0</td>\n",
       "      <td>0.503788</td>\n",
       "      <td>1.0</td>\n",
       "      <td>0.665635</td>\n",
       "      <td>9.0</td>\n",
       "      <td>0.0</td>\n",
       "      <td>1.0</td>\n",
       "      <td>0.0</td>\n",
       "      <td>...</td>\n",
       "      <td>0.385965</td>\n",
       "      <td>0.136364</td>\n",
       "      <td>0.8</td>\n",
       "      <td>-0.369697</td>\n",
       "      <td>-0.600</td>\n",
       "      <td>-0.166667</td>\n",
       "      <td>0.000000</td>\n",
       "      <td>0.000000</td>\n",
       "      <td>0.500000</td>\n",
       "      <td>0.000000</td>\n",
       "    </tr>\n",
       "    <tr>\n",
       "      <th>4</th>\n",
       "      <td>731.0</td>\n",
       "      <td>13.0</td>\n",
       "      <td>1072.0</td>\n",
       "      <td>0.415646</td>\n",
       "      <td>1.0</td>\n",
       "      <td>0.540890</td>\n",
       "      <td>19.0</td>\n",
       "      <td>19.0</td>\n",
       "      <td>20.0</td>\n",
       "      <td>0.0</td>\n",
       "      <td>...</td>\n",
       "      <td>0.411127</td>\n",
       "      <td>0.033333</td>\n",
       "      <td>1.0</td>\n",
       "      <td>-0.220192</td>\n",
       "      <td>-0.500</td>\n",
       "      <td>-0.050000</td>\n",
       "      <td>0.454545</td>\n",
       "      <td>0.136364</td>\n",
       "      <td>0.045455</td>\n",
       "      <td>0.136364</td>\n",
       "    </tr>\n",
       "  </tbody>\n",
       "</table>\n",
       "<p>5 rows × 59 columns</p>\n",
       "</div>"
      ],
      "text/plain": [
       "    timedelta   n_tokens_title   n_tokens_content   n_unique_tokens  \\\n",
       "0       731.0             12.0              219.0          0.663594   \n",
       "1       731.0              9.0              255.0          0.604743   \n",
       "2       731.0              9.0              211.0          0.575130   \n",
       "3       731.0              9.0              531.0          0.503788   \n",
       "4       731.0             13.0             1072.0          0.415646   \n",
       "\n",
       "    n_non_stop_words   n_non_stop_unique_tokens   num_hrefs   num_self_hrefs  \\\n",
       "0                1.0                   0.815385         4.0              2.0   \n",
       "1                1.0                   0.791946         3.0              1.0   \n",
       "2                1.0                   0.663866         3.0              1.0   \n",
       "3                1.0                   0.665635         9.0              0.0   \n",
       "4                1.0                   0.540890        19.0             19.0   \n",
       "\n",
       "    num_imgs   num_videos              ...                \\\n",
       "0        1.0          0.0              ...                 \n",
       "1        1.0          0.0              ...                 \n",
       "2        1.0          0.0              ...                 \n",
       "3        1.0          0.0              ...                 \n",
       "4       20.0          0.0              ...                 \n",
       "\n",
       "    avg_positive_polarity   min_positive_polarity   max_positive_polarity  \\\n",
       "0                0.378636                0.100000                     0.7   \n",
       "1                0.286915                0.033333                     0.7   \n",
       "2                0.495833                0.100000                     1.0   \n",
       "3                0.385965                0.136364                     0.8   \n",
       "4                0.411127                0.033333                     1.0   \n",
       "\n",
       "    avg_negative_polarity   min_negative_polarity   max_negative_polarity  \\\n",
       "0               -0.350000                  -0.600               -0.200000   \n",
       "1               -0.118750                  -0.125               -0.100000   \n",
       "2               -0.466667                  -0.800               -0.133333   \n",
       "3               -0.369697                  -0.600               -0.166667   \n",
       "4               -0.220192                  -0.500               -0.050000   \n",
       "\n",
       "    title_subjectivity   title_sentiment_polarity   abs_title_subjectivity  \\\n",
       "0             0.500000                  -0.187500                 0.000000   \n",
       "1             0.000000                   0.000000                 0.500000   \n",
       "2             0.000000                   0.000000                 0.500000   \n",
       "3             0.000000                   0.000000                 0.500000   \n",
       "4             0.454545                   0.136364                 0.045455   \n",
       "\n",
       "    abs_title_sentiment_polarity  \n",
       "0                       0.187500  \n",
       "1                       0.000000  \n",
       "2                       0.000000  \n",
       "3                       0.000000  \n",
       "4                       0.136364  \n",
       "\n",
       "[5 rows x 59 columns]"
      ]
     },
     "execution_count": 4,
     "metadata": {},
     "output_type": "execute_result"
    }
   ],
   "source": [
    "X = Online_News.iloc[:, :len(Online_News.columns)-1]\n",
    "X.head()"
   ]
  },
  {
   "cell_type": "code",
   "execution_count": 5,
   "metadata": {
    "collapsed": false
   },
   "outputs": [
    {
     "data": {
      "text/plain": [
       "0     593\n",
       "1     711\n",
       "2    1500\n",
       "3    1200\n",
       "4     505\n",
       "Name:  shares, dtype: int64"
      ]
     },
     "execution_count": 5,
     "metadata": {},
     "output_type": "execute_result"
    }
   ],
   "source": [
    "y = Online_News.iloc[:,59]\n",
    "y.head()"
   ]
  },
  {
   "cell_type": "code",
   "execution_count": 6,
   "metadata": {
    "collapsed": false
   },
   "outputs": [
    {
     "name": "stdout",
     "output_type": "stream",
     "text": [
      "<class 'pandas.core.frame.DataFrame'>\n",
      "<class 'pandas.core.frame.DataFrame'>\n",
      "<class 'pandas.core.series.Series'>\n",
      "<class 'pandas.core.series.Series'>\n"
     ]
    }
   ],
   "source": [
    "X_train, X_test, y_train, y_test = train_test_split(X,y, test_size = 0.25, random_state = 1234)\n",
    "\n",
    "print type(X_train)\n",
    "print type(X_test)\n",
    "print type(y_train)\n",
    "print type(y_test)\n"
   ]
  },
  {
   "cell_type": "code",
   "execution_count": 7,
   "metadata": {
    "collapsed": false
   },
   "outputs": [
    {
     "name": "stdout",
     "output_type": "stream",
     "text": [
      "29733\n",
      "9911\n",
      "39644\n",
      "39644\n"
     ]
    }
   ],
   "source": [
    "print len(X_train)\n",
    "print len(y_test)\n",
    "print len(X_train) + len(X_test)\n",
    "print len(X)"
   ]
  },
  {
   "cell_type": "code",
   "execution_count": 8,
   "metadata": {
    "collapsed": false
   },
   "outputs": [],
   "source": [
    "min_max_norm = preprocessing.MinMaxScaler()\n",
    "X_trainnorm = min_max_norm.fit_transform(X_train)\n",
    "X_testnorm = min_max_norm.fit_transform(X_test)\n",
    "\n",
    "X_norm = min_max_norm.fit_transform(X)\n",
    "y_log = np.log10(y)"
   ]
  },
  {
   "cell_type": "code",
   "execution_count": 9,
   "metadata": {
    "collapsed": false
   },
   "outputs": [
    {
     "name": "stdout",
     "output_type": "stream",
     "text": [
      "<type 'numpy.ndarray'>\n",
      "<type 'numpy.ndarray'>\n",
      "[' timedelta' ' n_tokens_title' ' n_tokens_content' ' n_unique_tokens'\n",
      " ' n_non_stop_words' ' n_non_stop_unique_tokens' ' num_hrefs'\n",
      " ' num_self_hrefs' ' num_imgs' ' num_videos' ' average_token_length'\n",
      " ' num_keywords' ' data_channel_is_lifestyle'\n",
      " ' data_channel_is_entertainment' ' data_channel_is_bus'\n",
      " ' data_channel_is_socmed' ' data_channel_is_tech' ' data_channel_is_world'\n",
      " ' kw_min_min' ' kw_max_min' ' kw_avg_min' ' kw_min_max' ' kw_max_max'\n",
      " ' kw_avg_max' ' kw_min_avg' ' kw_max_avg' ' kw_avg_avg'\n",
      " ' self_reference_min_shares' ' self_reference_max_shares'\n",
      " ' self_reference_avg_sharess' ' weekday_is_monday' ' weekday_is_tuesday'\n",
      " ' weekday_is_wednesday' ' weekday_is_thursday' ' weekday_is_friday'\n",
      " ' weekday_is_saturday' ' weekday_is_sunday' ' is_weekend' ' LDA_00'\n",
      " ' LDA_01' ' LDA_02' ' LDA_03' ' LDA_04' ' global_subjectivity'\n",
      " ' global_sentiment_polarity' ' global_rate_positive_words'\n",
      " ' global_rate_negative_words' ' rate_positive_words'\n",
      " ' rate_negative_words' ' avg_positive_polarity' ' min_positive_polarity'\n",
      " ' max_positive_polarity' ' avg_negative_polarity' ' min_negative_polarity'\n",
      " ' max_negative_polarity' ' title_subjectivity' ' title_sentiment_polarity'\n",
      " ' abs_title_subjectivity' ' abs_title_sentiment_polarity']\n"
     ]
    },
    {
     "data": {
      "text/html": [
       "<div>\n",
       "<table border=\"1\" class=\"dataframe\">\n",
       "  <thead>\n",
       "    <tr style=\"text-align: right;\">\n",
       "      <th></th>\n",
       "      <th>timedelta</th>\n",
       "      <th>n_tokens_title</th>\n",
       "      <th>n_tokens_content</th>\n",
       "      <th>n_unique_tokens</th>\n",
       "      <th>n_non_stop_words</th>\n",
       "      <th>n_non_stop_unique_tokens</th>\n",
       "      <th>num_hrefs</th>\n",
       "      <th>num_self_hrefs</th>\n",
       "      <th>num_imgs</th>\n",
       "      <th>num_videos</th>\n",
       "      <th>...</th>\n",
       "      <th>avg_positive_polarity</th>\n",
       "      <th>min_positive_polarity</th>\n",
       "      <th>max_positive_polarity</th>\n",
       "      <th>avg_negative_polarity</th>\n",
       "      <th>min_negative_polarity</th>\n",
       "      <th>max_negative_polarity</th>\n",
       "      <th>title_subjectivity</th>\n",
       "      <th>title_sentiment_polarity</th>\n",
       "      <th>abs_title_subjectivity</th>\n",
       "      <th>abs_title_sentiment_polarity</th>\n",
       "    </tr>\n",
       "  </thead>\n",
       "  <tbody>\n",
       "    <tr>\n",
       "      <th>0</th>\n",
       "      <td>0.181189</td>\n",
       "      <td>0.619048</td>\n",
       "      <td>0.157069</td>\n",
       "      <td>0.000511</td>\n",
       "      <td>0.00096</td>\n",
       "      <td>0.000805</td>\n",
       "      <td>0.036184</td>\n",
       "      <td>0.077586</td>\n",
       "      <td>0.099099</td>\n",
       "      <td>0.000000</td>\n",
       "      <td>...</td>\n",
       "      <td>0.323823</td>\n",
       "      <td>0.100000</td>\n",
       "      <td>1.0</td>\n",
       "      <td>0.752996</td>\n",
       "      <td>0.500000</td>\n",
       "      <td>0.923077</td>\n",
       "      <td>0.000000</td>\n",
       "      <td>0.500000</td>\n",
       "      <td>1.000000</td>\n",
       "      <td>0.000000</td>\n",
       "    </tr>\n",
       "    <tr>\n",
       "      <th>1</th>\n",
       "      <td>0.276625</td>\n",
       "      <td>0.380952</td>\n",
       "      <td>0.257139</td>\n",
       "      <td>0.000443</td>\n",
       "      <td>0.00096</td>\n",
       "      <td>0.000692</td>\n",
       "      <td>0.023026</td>\n",
       "      <td>0.060345</td>\n",
       "      <td>0.270270</td>\n",
       "      <td>0.010989</td>\n",
       "      <td>...</td>\n",
       "      <td>0.427158</td>\n",
       "      <td>0.050000</td>\n",
       "      <td>1.0</td>\n",
       "      <td>0.742920</td>\n",
       "      <td>0.000000</td>\n",
       "      <td>0.900000</td>\n",
       "      <td>0.000000</td>\n",
       "      <td>0.500000</td>\n",
       "      <td>1.000000</td>\n",
       "      <td>0.000000</td>\n",
       "    </tr>\n",
       "    <tr>\n",
       "      <th>2</th>\n",
       "      <td>0.569848</td>\n",
       "      <td>0.285714</td>\n",
       "      <td>0.019235</td>\n",
       "      <td>0.001030</td>\n",
       "      <td>0.00096</td>\n",
       "      <td>0.001228</td>\n",
       "      <td>0.029605</td>\n",
       "      <td>0.051724</td>\n",
       "      <td>0.000000</td>\n",
       "      <td>0.010989</td>\n",
       "      <td>...</td>\n",
       "      <td>0.278745</td>\n",
       "      <td>0.033333</td>\n",
       "      <td>0.6</td>\n",
       "      <td>0.685494</td>\n",
       "      <td>0.400000</td>\n",
       "      <td>0.900000</td>\n",
       "      <td>0.454545</td>\n",
       "      <td>0.568182</td>\n",
       "      <td>0.090909</td>\n",
       "      <td>0.136364</td>\n",
       "    </tr>\n",
       "    <tr>\n",
       "      <th>3</th>\n",
       "      <td>0.098202</td>\n",
       "      <td>0.333333</td>\n",
       "      <td>0.017229</td>\n",
       "      <td>0.000967</td>\n",
       "      <td>0.00096</td>\n",
       "      <td>0.001254</td>\n",
       "      <td>0.003289</td>\n",
       "      <td>0.008621</td>\n",
       "      <td>0.009009</td>\n",
       "      <td>0.010989</td>\n",
       "      <td>...</td>\n",
       "      <td>0.369388</td>\n",
       "      <td>0.100000</td>\n",
       "      <td>0.7</td>\n",
       "      <td>0.844444</td>\n",
       "      <td>0.844444</td>\n",
       "      <td>0.844444</td>\n",
       "      <td>0.000000</td>\n",
       "      <td>0.500000</td>\n",
       "      <td>1.000000</td>\n",
       "      <td>0.000000</td>\n",
       "    </tr>\n",
       "    <tr>\n",
       "      <th>4</th>\n",
       "      <td>0.986169</td>\n",
       "      <td>0.380952</td>\n",
       "      <td>0.046259</td>\n",
       "      <td>0.000809</td>\n",
       "      <td>0.00096</td>\n",
       "      <td>0.001020</td>\n",
       "      <td>0.092105</td>\n",
       "      <td>0.051724</td>\n",
       "      <td>0.099099</td>\n",
       "      <td>0.010989</td>\n",
       "      <td>...</td>\n",
       "      <td>0.288636</td>\n",
       "      <td>0.136364</td>\n",
       "      <td>0.6</td>\n",
       "      <td>0.645833</td>\n",
       "      <td>0.400000</td>\n",
       "      <td>0.900000</td>\n",
       "      <td>0.250000</td>\n",
       "      <td>0.625000</td>\n",
       "      <td>0.500000</td>\n",
       "      <td>0.250000</td>\n",
       "    </tr>\n",
       "  </tbody>\n",
       "</table>\n",
       "<p>5 rows × 59 columns</p>\n",
       "</div>"
      ],
      "text/plain": [
       "    timedelta   n_tokens_title   n_tokens_content   n_unique_tokens  \\\n",
       "0    0.181189         0.619048           0.157069          0.000511   \n",
       "1    0.276625         0.380952           0.257139          0.000443   \n",
       "2    0.569848         0.285714           0.019235          0.001030   \n",
       "3    0.098202         0.333333           0.017229          0.000967   \n",
       "4    0.986169         0.380952           0.046259          0.000809   \n",
       "\n",
       "    n_non_stop_words   n_non_stop_unique_tokens   num_hrefs   num_self_hrefs  \\\n",
       "0            0.00096                   0.000805    0.036184         0.077586   \n",
       "1            0.00096                   0.000692    0.023026         0.060345   \n",
       "2            0.00096                   0.001228    0.029605         0.051724   \n",
       "3            0.00096                   0.001254    0.003289         0.008621   \n",
       "4            0.00096                   0.001020    0.092105         0.051724   \n",
       "\n",
       "    num_imgs   num_videos              ...                \\\n",
       "0   0.099099     0.000000              ...                 \n",
       "1   0.270270     0.010989              ...                 \n",
       "2   0.000000     0.010989              ...                 \n",
       "3   0.009009     0.010989              ...                 \n",
       "4   0.099099     0.010989              ...                 \n",
       "\n",
       "    avg_positive_polarity   min_positive_polarity   max_positive_polarity  \\\n",
       "0                0.323823                0.100000                     1.0   \n",
       "1                0.427158                0.050000                     1.0   \n",
       "2                0.278745                0.033333                     0.6   \n",
       "3                0.369388                0.100000                     0.7   \n",
       "4                0.288636                0.136364                     0.6   \n",
       "\n",
       "    avg_negative_polarity   min_negative_polarity   max_negative_polarity  \\\n",
       "0                0.752996                0.500000                0.923077   \n",
       "1                0.742920                0.000000                0.900000   \n",
       "2                0.685494                0.400000                0.900000   \n",
       "3                0.844444                0.844444                0.844444   \n",
       "4                0.645833                0.400000                0.900000   \n",
       "\n",
       "    title_subjectivity   title_sentiment_polarity   abs_title_subjectivity  \\\n",
       "0             0.000000                   0.500000                 1.000000   \n",
       "1             0.000000                   0.500000                 1.000000   \n",
       "2             0.454545                   0.568182                 0.090909   \n",
       "3             0.000000                   0.500000                 1.000000   \n",
       "4             0.250000                   0.625000                 0.500000   \n",
       "\n",
       "    abs_title_sentiment_polarity  \n",
       "0                       0.000000  \n",
       "1                       0.000000  \n",
       "2                       0.136364  \n",
       "3                       0.000000  \n",
       "4                       0.250000  \n",
       "\n",
       "[5 rows x 59 columns]"
      ]
     },
     "execution_count": 9,
     "metadata": {},
     "output_type": "execute_result"
    }
   ],
   "source": [
    "print type(X_trainnorm)\n",
    "print type(X_testnorm)\n",
    "\n",
    "X_trainnorm = pd.DataFrame(X_trainnorm)\n",
    "X_testnorm = pd.DataFrame(X_testnorm)\n",
    "\n",
    "X_trainnorm.columns = X_train.columns.values\n",
    "X_testnorm.columns = X_test.columns.values\n",
    "\n",
    "print X_trainnorm.columns.values\n",
    "X_trainnorm.head()"
   ]
  },
  {
   "cell_type": "code",
   "execution_count": 10,
   "metadata": {
    "collapsed": false
   },
   "outputs": [],
   "source": [
    "# normalize acc to columns right?\n",
    "# how is it taking?"
   ]
  },
  {
   "cell_type": "code",
   "execution_count": 11,
   "metadata": {
    "collapsed": false
   },
   "outputs": [
    {
     "name": "stdout",
     "output_type": "stream",
     "text": [
      "420.0\n",
      "0.569847856155\n"
     ]
    },
    {
     "data": {
      "text/plain": [
       "0    0.181189\n",
       "1    0.276625\n",
       "2    0.569848\n",
       "3    0.098202\n",
       "4    0.986169\n",
       "Name:  timedelta, dtype: float64"
      ]
     },
     "execution_count": 11,
     "metadata": {},
     "output_type": "execute_result"
    }
   ],
   "source": [
    "a = X_train[' timedelta'].iloc[2]\n",
    "print a\n",
    "\n",
    "mini = X_train[' timedelta'].min()\n",
    "maxi = X_train[' timedelta'].max()\n",
    "print (a - mini) / (maxi - mini)\n",
    "\n",
    "X_trainnorm[' timedelta'].head()"
   ]
  },
  {
   "cell_type": "code",
   "execution_count": 12,
   "metadata": {
    "collapsed": false
   },
   "outputs": [],
   "source": [
    "# Should i normalize the target value too\n",
    "# Should i take log of 10 or log 2 here\n",
    "y_trainlog = np.log10(y_train)\n",
    "y_testlog = np.log10(y_test)"
   ]
  },
  {
   "cell_type": "code",
   "execution_count": 13,
   "metadata": {
    "collapsed": false
   },
   "outputs": [
    {
     "name": "stdout",
     "output_type": "stream",
     "text": [
      "3.07918124605\n",
      "1200\n"
     ]
    }
   ],
   "source": [
    "print y_trainlog.iloc[2]\n",
    "print y_train.iloc[2]"
   ]
  },
  {
   "cell_type": "code",
   "execution_count": 14,
   "metadata": {
    "collapsed": false
   },
   "outputs": [
    {
     "name": "stdout",
     "output_type": "stream",
     "text": [
      "3395.38018363\n",
      "1\n",
      "843300\n"
     ]
    }
   ],
   "source": [
    "print y.mean()\n",
    "print y.min()\n",
    "print y.max()\n",
    "\n",
    "import matplotlib.pyplot as plt\n",
    "import numpy as np\n",
    "\n",
    "#import plotly.plotly as py\n",
    "# Learn about API authentication here: https://plot.ly/python/getting-started\n",
    "# Find your api_key here: https://plot.ly/settings/api\n",
    "\n",
    "p2 = plt.hist(y)\n",
    "plt.show()\n",
    "p1 = plt.hist(np.log(y))\n",
    "plt.title(\"#Shares distribution\")\n",
    "plt.xlabel(\"#Shares value\")\n",
    "plt.ylabel(\"Frequency\")\n",
    "plt.show()\n"
   ]
  },
  {
   "cell_type": "code",
   "execution_count": 15,
   "metadata": {
    "collapsed": false
   },
   "outputs": [],
   "source": [
    "# optimize for k value > feature selection > cross validation\n",
    "\n",
    "min_max_norm = preprocessing.MinMaxScaler()\n",
    "X_norm = min_max_norm.fit_transform(X)\n",
    "y_log = np.log10(y)"
   ]
  },
  {
   "cell_type": "code",
   "execution_count": 15,
   "metadata": {
    "collapsed": false
   },
   "outputs": [
    {
     "name": "stdout",
     "output_type": "stream",
     "text": [
      "    timedelta   n_tokens_title   n_tokens_content   n_unique_tokens  \\\n",
      "0    0.181189         0.619048           0.157069          0.000511   \n",
      "1    0.276625         0.380952           0.257139          0.000443   \n",
      "2    0.569848         0.285714           0.019235          0.001030   \n",
      "3    0.098202         0.333333           0.017229          0.000967   \n",
      "4    0.986169         0.380952           0.046259          0.000809   \n",
      "\n",
      "    n_non_stop_words   n_non_stop_unique_tokens   num_hrefs   num_self_hrefs  \\\n",
      "0            0.00096                   0.000805    0.036184         0.077586   \n",
      "1            0.00096                   0.000692    0.023026         0.060345   \n",
      "2            0.00096                   0.001228    0.029605         0.051724   \n",
      "3            0.00096                   0.001254    0.003289         0.008621   \n",
      "4            0.00096                   0.001020    0.092105         0.051724   \n",
      "\n",
      "    num_imgs   num_videos              ...                \\\n",
      "0   0.099099     0.000000              ...                 \n",
      "1   0.270270     0.010989              ...                 \n",
      "2   0.000000     0.010989              ...                 \n",
      "3   0.009009     0.010989              ...                 \n",
      "4   0.099099     0.010989              ...                 \n",
      "\n",
      "    avg_positive_polarity   min_positive_polarity   max_positive_polarity  \\\n",
      "0                0.323823                0.100000                     1.0   \n",
      "1                0.427158                0.050000                     1.0   \n",
      "2                0.278745                0.033333                     0.6   \n",
      "3                0.369388                0.100000                     0.7   \n",
      "4                0.288636                0.136364                     0.6   \n",
      "\n",
      "    avg_negative_polarity   min_negative_polarity   max_negative_polarity  \\\n",
      "0                0.752996                0.500000                0.923077   \n",
      "1                0.742920                0.000000                0.900000   \n",
      "2                0.685494                0.400000                0.900000   \n",
      "3                0.844444                0.844444                0.844444   \n",
      "4                0.645833                0.400000                0.900000   \n",
      "\n",
      "    title_subjectivity   title_sentiment_polarity   abs_title_subjectivity  \\\n",
      "0             0.000000                   0.500000                 1.000000   \n",
      "1             0.000000                   0.500000                 1.000000   \n",
      "2             0.454545                   0.568182                 0.090909   \n",
      "3             0.000000                   0.500000                 1.000000   \n",
      "4             0.250000                   0.625000                 0.500000   \n",
      "\n",
      "    abs_title_sentiment_polarity  \n",
      "0                       0.000000  \n",
      "1                       0.000000  \n",
      "2                       0.136364  \n",
      "3                       0.000000  \n",
      "4                       0.250000  \n",
      "\n",
      "[5 rows x 59 columns]\n",
      "31253    3.414973\n",
      "26992    3.397940\n",
      "16142    3.079181\n",
      "35131    2.763428\n",
      "582      3.041393\n",
      "Name:  shares, dtype: float64\n"
     ]
    }
   ],
   "source": [
    "print X_trainnorm.head()\n",
    "print y_trainlog.head()"
   ]
  },
  {
   "cell_type": "code",
   "execution_count": 17,
   "metadata": {
    "collapsed": true
   },
   "outputs": [],
   "source": [
    "pca = PCA()\n",
    "pca.fit(X_norm)\n",
    "X_normreduced = pca.transform(X_norm)"
   ]
  },
  {
   "cell_type": "code",
   "execution_count": 18,
   "metadata": {
    "collapsed": false
   },
   "outputs": [
    {
     "name": "stdout",
     "output_type": "stream",
     "text": [
      "(39644L, 59L)\n"
     ]
    },
    {
     "data": {
      "text/html": [
       "<div>\n",
       "<table border=\"1\" class=\"dataframe\">\n",
       "  <thead>\n",
       "    <tr style=\"text-align: right;\">\n",
       "      <th></th>\n",
       "      <th>0</th>\n",
       "      <th>1</th>\n",
       "      <th>2</th>\n",
       "      <th>3</th>\n",
       "      <th>4</th>\n",
       "      <th>5</th>\n",
       "      <th>6</th>\n",
       "      <th>7</th>\n",
       "      <th>8</th>\n",
       "      <th>9</th>\n",
       "      <th>...</th>\n",
       "      <th>49</th>\n",
       "      <th>50</th>\n",
       "      <th>51</th>\n",
       "      <th>52</th>\n",
       "      <th>53</th>\n",
       "      <th>54</th>\n",
       "      <th>55</th>\n",
       "      <th>56</th>\n",
       "      <th>57</th>\n",
       "      <th>58</th>\n",
       "    </tr>\n",
       "  </thead>\n",
       "  <tbody>\n",
       "    <tr>\n",
       "      <th>0</th>\n",
       "      <td>-0.533168</td>\n",
       "      <td>-0.584386</td>\n",
       "      <td>-0.151780</td>\n",
       "      <td>0.077262</td>\n",
       "      <td>-0.277035</td>\n",
       "      <td>0.125086</td>\n",
       "      <td>0.146919</td>\n",
       "      <td>1.180835</td>\n",
       "      <td>0.818095</td>\n",
       "      <td>-0.266384</td>\n",
       "      <td>...</td>\n",
       "      <td>0.008392</td>\n",
       "      <td>-0.000525</td>\n",
       "      <td>0.015913</td>\n",
       "      <td>-0.000772</td>\n",
       "      <td>0.000840</td>\n",
       "      <td>0.000067</td>\n",
       "      <td>-0.000003</td>\n",
       "      <td>-4.888484e-07</td>\n",
       "      <td>6.628102e-16</td>\n",
       "      <td>-2.243265e-16</td>\n",
       "    </tr>\n",
       "    <tr>\n",
       "      <th>1</th>\n",
       "      <td>-0.403413</td>\n",
       "      <td>0.156891</td>\n",
       "      <td>1.294903</td>\n",
       "      <td>-0.168107</td>\n",
       "      <td>0.243924</td>\n",
       "      <td>0.014266</td>\n",
       "      <td>0.093502</td>\n",
       "      <td>1.033110</td>\n",
       "      <td>0.468436</td>\n",
       "      <td>-0.182229</td>\n",
       "      <td>...</td>\n",
       "      <td>0.003873</td>\n",
       "      <td>-0.000319</td>\n",
       "      <td>0.013816</td>\n",
       "      <td>-0.000695</td>\n",
       "      <td>0.002048</td>\n",
       "      <td>0.000069</td>\n",
       "      <td>-0.000038</td>\n",
       "      <td>-1.277705e-06</td>\n",
       "      <td>6.525514e-16</td>\n",
       "      <td>-2.615549e-16</td>\n",
       "    </tr>\n",
       "  </tbody>\n",
       "</table>\n",
       "<p>2 rows × 59 columns</p>\n",
       "</div>"
      ],
      "text/plain": [
       "         0         1         2         3         4         5         6   \\\n",
       "0 -0.533168 -0.584386 -0.151780  0.077262 -0.277035  0.125086  0.146919   \n",
       "1 -0.403413  0.156891  1.294903 -0.168107  0.243924  0.014266  0.093502   \n",
       "\n",
       "         7         8         9       ...             49        50        51  \\\n",
       "0  1.180835  0.818095 -0.266384      ...       0.008392 -0.000525  0.015913   \n",
       "1  1.033110  0.468436 -0.182229      ...       0.003873 -0.000319  0.013816   \n",
       "\n",
       "         52        53        54        55            56            57  \\\n",
       "0 -0.000772  0.000840  0.000067 -0.000003 -4.888484e-07  6.628102e-16   \n",
       "1 -0.000695  0.002048  0.000069 -0.000038 -1.277705e-06  6.525514e-16   \n",
       "\n",
       "             58  \n",
       "0 -2.243265e-16  \n",
       "1 -2.615549e-16  \n",
       "\n",
       "[2 rows x 59 columns]"
      ]
     },
     "execution_count": 18,
     "metadata": {},
     "output_type": "execute_result"
    }
   ],
   "source": [
    "print X_normreduced.shape\n",
    "X_normreduced = pd.DataFrame(X_normreduced)\n",
    "X_normreduced.head(2)"
   ]
  },
  {
   "cell_type": "code",
   "execution_count": 20,
   "metadata": {
    "collapsed": false
   },
   "outputs": [
    {
     "name": "stdout",
     "output_type": "stream",
     "text": [
      "[ True  True  True  True  True  True  True  True  True  True  True  True\n",
      "  True  True  True  True  True  True  True  True  True  True  True  True\n",
      "  True  True  True  True False False False False False False False False\n",
      " False False False False False False False False False False False False\n",
      " False False False False False False False False False False False]\n",
      "(39644, 28)\n"
     ]
    },
    {
     "data": {
      "text/html": [
       "<div>\n",
       "<table border=\"1\" class=\"dataframe\">\n",
       "  <thead>\n",
       "    <tr style=\"text-align: right;\">\n",
       "      <th></th>\n",
       "      <th>0</th>\n",
       "      <th>1</th>\n",
       "      <th>2</th>\n",
       "      <th>3</th>\n",
       "      <th>4</th>\n",
       "      <th>5</th>\n",
       "      <th>6</th>\n",
       "      <th>7</th>\n",
       "      <th>8</th>\n",
       "      <th>9</th>\n",
       "      <th>...</th>\n",
       "      <th>18</th>\n",
       "      <th>19</th>\n",
       "      <th>20</th>\n",
       "      <th>21</th>\n",
       "      <th>22</th>\n",
       "      <th>23</th>\n",
       "      <th>24</th>\n",
       "      <th>25</th>\n",
       "      <th>26</th>\n",
       "      <th>27</th>\n",
       "    </tr>\n",
       "  </thead>\n",
       "  <tbody>\n",
       "    <tr>\n",
       "      <th>0</th>\n",
       "      <td>-0.533168</td>\n",
       "      <td>-0.584386</td>\n",
       "      <td>-0.151780</td>\n",
       "      <td>0.077262</td>\n",
       "      <td>-0.277035</td>\n",
       "      <td>0.125086</td>\n",
       "      <td>0.146919</td>\n",
       "      <td>1.180835</td>\n",
       "      <td>0.818095</td>\n",
       "      <td>-0.266384</td>\n",
       "      <td>...</td>\n",
       "      <td>-0.240721</td>\n",
       "      <td>-0.131677</td>\n",
       "      <td>-0.010380</td>\n",
       "      <td>0.168660</td>\n",
       "      <td>-0.086662</td>\n",
       "      <td>-0.167720</td>\n",
       "      <td>0.315883</td>\n",
       "      <td>0.082610</td>\n",
       "      <td>0.121564</td>\n",
       "      <td>0.012785</td>\n",
       "    </tr>\n",
       "    <tr>\n",
       "      <th>1</th>\n",
       "      <td>-0.403413</td>\n",
       "      <td>0.156891</td>\n",
       "      <td>1.294903</td>\n",
       "      <td>-0.168107</td>\n",
       "      <td>0.243924</td>\n",
       "      <td>0.014266</td>\n",
       "      <td>0.093502</td>\n",
       "      <td>1.033110</td>\n",
       "      <td>0.468436</td>\n",
       "      <td>-0.182229</td>\n",
       "      <td>...</td>\n",
       "      <td>-0.265101</td>\n",
       "      <td>0.000300</td>\n",
       "      <td>0.037394</td>\n",
       "      <td>-0.108537</td>\n",
       "      <td>-0.033147</td>\n",
       "      <td>0.001019</td>\n",
       "      <td>0.102201</td>\n",
       "      <td>0.020963</td>\n",
       "      <td>-0.006558</td>\n",
       "      <td>-0.069796</td>\n",
       "    </tr>\n",
       "  </tbody>\n",
       "</table>\n",
       "<p>2 rows × 28 columns</p>\n",
       "</div>"
      ],
      "text/plain": [
       "         0         1         2         3         4         5         6   \\\n",
       "0 -0.533168 -0.584386 -0.151780  0.077262 -0.277035  0.125086  0.146919   \n",
       "1 -0.403413  0.156891  1.294903 -0.168107  0.243924  0.014266  0.093502   \n",
       "\n",
       "         7         8         9     ...           18        19        20  \\\n",
       "0  1.180835  0.818095 -0.266384    ...    -0.240721 -0.131677 -0.010380   \n",
       "1  1.033110  0.468436 -0.182229    ...    -0.265101  0.000300  0.037394   \n",
       "\n",
       "         21        22        23        24        25        26        27  \n",
       "0  0.168660 -0.086662 -0.167720  0.315883  0.082610  0.121564  0.012785  \n",
       "1 -0.108537 -0.033147  0.001019  0.102201  0.020963 -0.006558 -0.069796  \n",
       "\n",
       "[2 rows x 28 columns]"
      ]
     },
     "execution_count": 20,
     "metadata": {},
     "output_type": "execute_result"
    }
   ],
   "source": [
    "print pca.explained_variance_ratio_.cumsum()<0.98\n",
    "X_normreduced = X_normreduced.loc[:,pca.explained_variance_ratio_.cumsum()<0.98]\n",
    "print X_normreduced.shape\n",
    "X_normreduced.head(2)"
   ]
  },
  {
   "cell_type": "code",
   "execution_count": null,
   "metadata": {
    "collapsed": true
   },
   "outputs": [],
   "source": [
    "# SVM classifier\n",
    "\n",
    "clf = SVR()\n",
    "clf.fit(X_normreduced, y_log)"
   ]
  },
  {
   "cell_type": "code",
   "execution_count": null,
   "metadata": {
    "collapsed": true
   },
   "outputs": [],
   "source": [
    "y_pred = clf.predict(X_normreduced)"
   ]
  },
  {
   "cell_type": "code",
   "execution_count": 59,
   "metadata": {
    "collapsed": false
   },
   "outputs": [
    {
     "name": "stdout",
     "output_type": "stream",
     "text": [
      "0.149\n"
     ]
    },
    {
     "data": {
      "text/plain": [
       "2.4322330264443583"
      ]
     },
     "execution_count": 59,
     "metadata": {},
     "output_type": "execute_result"
    }
   ],
   "source": [
    "print round(metrics.mean_squared_error(y_log, y_pred),3)\n",
    "pow(10,np.sqrt(0.149))"
   ]
  },
  {
   "cell_type": "code",
   "execution_count": 66,
   "metadata": {
    "collapsed": false
   },
   "outputs": [],
   "source": [
    "C = 1.0 # SVM regularization parameter\n",
    "svc = SVR(kernel='linear', C=C)\n",
    "rbf_svc = SVR(kernel='rbf', gamma=0.7, C=C)\n",
    "poly_svc = SVR(kernel='poly', degree=3, C=C)\n",
    "# Classes are not always linearly separable in feature space. The solution is to build a decision function that is not linear\n",
    "# but may be polynomial instead. This is done using the kernel trick that can be seen as creating a decision energy by\n",
    "# positioning kernels on observations:\n",
    "#lin_svc = LinearSVR(C=C)"
   ]
  },
  {
   "cell_type": "code",
   "execution_count": 80,
   "metadata": {
    "collapsed": false
   },
   "outputs": [
    {
     "name": "stdout",
     "output_type": "stream",
     "text": [
      "39644\n",
      "39644\n",
      "[ 0.6  0.7  0.8]\n"
     ]
    }
   ],
   "source": [
    "print len(X_normreduced)\n",
    "print len(y_log)\n",
    "gamma_range = np.arange(0.6,0.85,0.1)\n",
    "print gamma_range"
   ]
  },
  {
   "cell_type": "code",
   "execution_count": 87,
   "metadata": {
    "collapsed": false
   },
   "outputs": [
    {
     "name": "stderr",
     "output_type": "stream",
     "text": [
      "C:\\Users\\Shiva\\Anaconda2\\lib\\site-packages\\sklearn\\externals\\joblib\\hashing.py:197: DeprecationWarning: Changing the shape of non-C contiguous array by\n",
      "descriptor assignment is deprecated. To maintain\n",
      "the Fortran contiguity of a multidimensional Fortran\n",
      "array, use 'a.T.view(...).T' instead\n",
      "  obj_bytes_view = obj.view(self.np.uint8)\n",
      "C:\\Users\\Shiva\\Anaconda2\\lib\\site-packages\\sklearn\\externals\\joblib\\hashing.py:197: DeprecationWarning: Changing the shape of non-C contiguous array by\n",
      "descriptor assignment is deprecated. To maintain\n",
      "the Fortran contiguity of a multidimensional Fortran\n",
      "array, use 'a.T.view(...).T' instead\n",
      "  obj_bytes_view = obj.view(self.np.uint8)\n",
      "C:\\Users\\Shiva\\Anaconda2\\lib\\site-packages\\sklearn\\externals\\joblib\\hashing.py:197: DeprecationWarning: Changing the shape of non-C contiguous array by\n",
      "descriptor assignment is deprecated. To maintain\n",
      "the Fortran contiguity of a multidimensional Fortran\n",
      "array, use 'a.T.view(...).T' instead\n",
      "  obj_bytes_view = obj.view(self.np.uint8)\n",
      "C:\\Users\\Shiva\\Anaconda2\\lib\\site-packages\\sklearn\\externals\\joblib\\hashing.py:197: DeprecationWarning: Changing the shape of non-C contiguous array by\n",
      "descriptor assignment is deprecated. To maintain\n",
      "the Fortran contiguity of a multidimensional Fortran\n",
      "array, use 'a.T.view(...).T' instead\n",
      "  obj_bytes_view = obj.view(self.np.uint8)\n",
      "C:\\Users\\Shiva\\Anaconda2\\lib\\site-packages\\sklearn\\externals\\joblib\\hashing.py:197: DeprecationWarning: Changing the shape of non-C contiguous array by\n",
      "descriptor assignment is deprecated. To maintain\n",
      "the Fortran contiguity of a multidimensional Fortran\n",
      "array, use 'a.T.view(...).T' instead\n",
      "  obj_bytes_view = obj.view(self.np.uint8)\n",
      "C:\\Users\\Shiva\\Anaconda2\\lib\\site-packages\\sklearn\\externals\\joblib\\hashing.py:197: DeprecationWarning: Changing the shape of non-C contiguous array by\n",
      "descriptor assignment is deprecated. To maintain\n",
      "the Fortran contiguity of a multidimensional Fortran\n",
      "array, use 'a.T.view(...).T' instead\n",
      "  obj_bytes_view = obj.view(self.np.uint8)\n"
     ]
    },
    {
     "data": {
      "text/plain": [
       "GridSearchCV(cv=2, error_score='raise',\n",
       "       estimator=SVR(C=1.0, cache_size=200, coef0=0.0, degree=3, epsilon=0.1, gamma='auto',\n",
       "  kernel='rbf', max_iter=-1, shrinking=True, tol=0.001, verbose=False),\n",
       "       fit_params={}, iid=True, n_jobs=-1,\n",
       "       param_grid={'kernel': ['linear'], 'C': [1.0], 'gamma': array([ 0.6,  0.7,  0.8])},\n",
       "       pre_dispatch='2*n_jobs', refit=True, scoring='mean_squared_error',\n",
       "       verbose=0)"
      ]
     },
     "execution_count": 87,
     "metadata": {},
     "output_type": "execute_result"
    }
   ],
   "source": [
    "# Randomized Search on PCA data\n",
    "\n",
    "gamma_range = np.arange(0.6,0.85,0.1)\n",
    "#kernel_list = ['linear', 'rbf', 'poly']\n",
    "kernel_list = ['linear']\n",
    "C = [1.0]\n",
    "param_grid = dict(gamma = gamma_range, kernel = kernel_list , C = C)\n",
    "\n",
    "# rand = RandomizedSearchCV(clf, param_grid, cv = 2, scoring = 'mean_squared_error', n_iter = 2, random_state = 1234, n_jobs = -1)\n",
    "grid = GridSearchCV(clf, param_grid, cv = 2, scoring = 'mean_squared_error', n_jobs = -1)\n",
    "grid.fit(X_normreduced,y_log)"
   ]
  },
  {
   "cell_type": "code",
   "execution_count": 108,
   "metadata": {
    "collapsed": false
   },
   "outputs": [
    {
     "ename": "NameError",
     "evalue": "name 'grid' is not defined",
     "output_type": "error",
     "traceback": [
      "\u001b[1;31m---------------------------------------------------------------------------\u001b[0m",
      "\u001b[1;31mNameError\u001b[0m                                 Traceback (most recent call last)",
      "\u001b[1;32m<ipython-input-108-dfd746a90f63>\u001b[0m in \u001b[0;36m<module>\u001b[1;34m()\u001b[0m\n\u001b[0;32m      2\u001b[0m \u001b[1;31m# Different type of kernels\u001b[0m\u001b[1;33m\u001b[0m\u001b[1;33m\u001b[0m\u001b[0m\n\u001b[0;32m      3\u001b[0m \u001b[1;31m# Different parameters for each of them\u001b[0m\u001b[1;33m\u001b[0m\u001b[1;33m\u001b[0m\u001b[0m\n\u001b[1;32m----> 4\u001b[1;33m \u001b[1;32mprint\u001b[0m \u001b[0mpow\u001b[0m\u001b[1;33m(\u001b[0m\u001b[0mnp\u001b[0m\u001b[1;33m.\u001b[0m\u001b[0msqrt\u001b[0m\u001b[1;33m(\u001b[0m\u001b[1;33m-\u001b[0m\u001b[0mgrid\u001b[0m\u001b[1;33m.\u001b[0m\u001b[0mbest_score_\u001b[0m\u001b[1;33m)\u001b[0m\u001b[1;33m,\u001b[0m\u001b[1;36m10\u001b[0m\u001b[1;33m)\u001b[0m\u001b[1;33m\u001b[0m\u001b[0m\n\u001b[0m\u001b[0;32m      5\u001b[0m \u001b[1;32mprint\u001b[0m \u001b[0mgrid\u001b[0m\u001b[1;33m.\u001b[0m\u001b[0mbest_params_\u001b[0m\u001b[1;33m\u001b[0m\u001b[0m\n\u001b[0;32m      6\u001b[0m \u001b[1;32mprint\u001b[0m \u001b[0mgrid\u001b[0m\u001b[1;33m.\u001b[0m\u001b[0mbest_estimator_\u001b[0m\u001b[1;33m\u001b[0m\u001b[0m\n",
      "\u001b[1;31mNameError\u001b[0m: name 'grid' is not defined"
     ]
    }
   ],
   "source": [
    "# What are kernels\n",
    "# Different type of kernels\n",
    "# Different parameters for each of them\n",
    "print pow(np.sqrt(-grid.best_score_),10)\n",
    "print grid.best_params_\n",
    "print grid.best_estimator_\n",
    "print grid.best_score_"
   ]
  },
  {
   "cell_type": "markdown",
   "metadata": {},
   "source": [
    "Manual testing of why RMSE is low"
   ]
  },
  {
   "cell_type": "code",
   "execution_count": 21,
   "metadata": {
    "collapsed": false
   },
   "outputs": [
    {
     "data": {
      "text/plain": [
       "9911"
      ]
     },
     "execution_count": 21,
     "metadata": {},
     "output_type": "execute_result"
    }
   ],
   "source": [
    "from sklearn.cross_validation import train_test_split\n",
    "X_train, X_test, y_train, y_test = train_test_split(X_normreduced, y_log, test_size = 0.25, random_state = 1234)\n",
    "len(y_test)"
   ]
  },
  {
   "cell_type": "code",
   "execution_count": 23,
   "metadata": {
    "collapsed": false
   },
   "outputs": [
    {
     "name": "stdout",
     "output_type": "stream",
     "text": [
      "16142    3.079181\n",
      "35131    2.763428\n",
      "582      3.041393\n",
      "21467    3.204120\n",
      "28767    3.079181\n",
      "Name:  shares, dtype: float64\n"
     ]
    }
   ],
   "source": [
    "print X_train.head()\n",
    "print y_train[2:7]"
   ]
  },
  {
   "cell_type": "code",
   "execution_count": 24,
   "metadata": {
    "collapsed": true
   },
   "outputs": [],
   "source": [
    "clf = SVR()\n",
    "clf.fit(X_train, y_train)\n",
    "y_pred = clf.predict(X_test)\n"
   ]
  },
  {
   "cell_type": "code",
   "execution_count": 38,
   "metadata": {
    "collapsed": true
   },
   "outputs": [],
   "source": [
    "Error = y_test - y_pred"
   ]
  },
  {
   "cell_type": "code",
   "execution_count": 42,
   "metadata": {
    "collapsed": false
   },
   "outputs": [],
   "source": [
    "Check = pd.DataFrame({'Actual':y_test, 'Predicted':y_pred, 'Error':Error })\n",
    "Check = Check[[\"Actual\", \"Predicted\", \"Error\"]]"
   ]
  },
  {
   "cell_type": "code",
   "execution_count": 43,
   "metadata": {
    "collapsed": false
   },
   "outputs": [
    {
     "name": "stdout",
     "output_type": "stream",
     "text": [
      "         Actual  Predicted     Error\n",
      "15945  2.783904   3.246650 -0.462746\n",
      "30835  3.113943   3.088235  0.025708\n",
      "3840   4.232996   3.103092  1.129904\n",
      "7414   3.623249   3.393789  0.229460\n",
      "12457  3.079181   3.255289 -0.176108\n",
      "37754  3.230449   3.210663  0.019786\n",
      "8172   3.380211   3.096437  0.283774\n",
      "27861  3.041393   3.214261 -0.172869\n",
      "31217  2.762679   2.982340 -0.219662\n",
      "9463   2.865696   3.090118 -0.224422\n",
      "12113  3.041393   3.123844 -0.082452\n",
      "4703   3.491362   3.172310  0.319052\n",
      "8099   3.591065   3.405616  0.185448\n",
      "706    3.477121   3.491775 -0.014654\n",
      "11493  2.767898   3.084314 -0.316416\n",
      "31294  3.361728   3.358245  0.003483\n",
      "10678  2.807535   3.045502 -0.237967\n",
      "5696   3.041393   3.157210 -0.115817\n",
      "18579  3.000000   3.203986 -0.203986\n",
      "32621  3.322219   3.070839  0.251380\n",
      "32898  3.880814   3.178933  0.701880\n",
      "4162   3.672098   3.368165  0.303933\n",
      "843    3.041393   3.190663 -0.149270\n",
      "38874  3.556303   3.248459  0.307844\n",
      "12564  2.912222   3.191003 -0.278781\n",
      "27776  4.227887   3.047466  1.180421\n",
      "39051  3.255273   2.982100  0.273172\n",
      "18808  3.568202   3.222271  0.345931\n",
      "15828  4.158362   3.333259  0.825103\n",
      "18678  3.748188   3.311036  0.437152\n",
      "...         ...        ...       ...\n",
      "22195  3.255273   3.344170 -0.088898\n",
      "21177  3.748188   3.175380  0.572808\n",
      "20000  3.041393   2.997654  0.043738\n",
      "31379  3.301030   3.273004  0.028026\n",
      "8927   2.846337   3.118593 -0.272256\n",
      "31359  3.041393   3.211697 -0.170304\n",
      "36304  4.064458   3.037876  1.026582\n",
      "13785  3.826075   3.329434  0.496641\n",
      "19206  3.799341   3.028913  0.770428\n",
      "7641   3.079181   3.075448  0.003733\n",
      "22710  3.113943   3.223283 -0.109340\n",
      "33716  2.951823   3.124018 -0.172195\n",
      "5594   3.707570   3.232211  0.475359\n",
      "39085  2.945961   3.074772 -0.128811\n",
      "3028   3.230449   3.167932  0.062517\n",
      "19269  3.397940   3.162082  0.235858\n",
      "17121  2.872739   3.086820 -0.214081\n",
      "21030  4.113943   2.978732  1.135211\n",
      "13067  3.041393   3.058933 -0.017541\n",
      "26313  2.939519   3.069855 -0.130336\n",
      "8803   3.724276   3.137653  0.586623\n",
      "30832  2.926857   3.234119 -0.307262\n",
      "22269  3.397940   3.233805  0.164135\n",
      "21884  3.431364   3.271318  0.160046\n",
      "33087  2.982271   3.196683 -0.214412\n",
      "32291  2.791691   3.111694 -0.320004\n",
      "19548  3.176091   3.103841  0.072251\n",
      "9049   2.992554   3.084332 -0.091779\n",
      "38708  2.971276   3.162996 -0.191720\n",
      "7816   3.672098   3.346917  0.325181\n",
      "\n",
      "[9911 rows x 3 columns]\n"
     ]
    }
   ],
   "source": [
    "print Check"
   ]
  },
  {
   "cell_type": "code",
   "execution_count": 44,
   "metadata": {
    "collapsed": false
   },
   "outputs": [
    {
     "data": {
      "text/plain": [
       "2.427590892083792"
      ]
     },
     "execution_count": 44,
     "metadata": {},
     "output_type": "execute_result"
    }
   ],
   "source": [
    "import math as math\n",
    "math.pow(10,np.sqrt(metrics.mean_squared_error(y_test,y_pred)))\n"
   ]
  },
  {
   "cell_type": "code",
   "execution_count": 18,
   "metadata": {
    "collapsed": false
   },
   "outputs": [],
   "source": [
    "from sklearn.cross_validation import train_test_split\n",
    "X_train, X_test, y_train, y_test = train_test_split(X_norm, y_log, test_size = 0.25, random_state = 1234)\n",
    "\n"
   ]
  },
  {
   "cell_type": "code",
   "execution_count": 19,
   "metadata": {
    "collapsed": false
   },
   "outputs": [],
   "source": [
    "svc = SVR(kernel='linear', C=1.0, gamma = 0.6)\n"
   ]
  },
  {
   "cell_type": "code",
   "execution_count": 20,
   "metadata": {
    "collapsed": false
   },
   "outputs": [
    {
     "data": {
      "text/plain": [
       "SVR(C=1.0, cache_size=200, coef0=0.0, degree=3, epsilon=0.1, gamma=0.6,\n",
       "  kernel='linear', max_iter=-1, shrinking=True, tol=0.001, verbose=False)"
      ]
     },
     "execution_count": 20,
     "metadata": {},
     "output_type": "execute_result"
    }
   ],
   "source": [
    "svc.fit(X_train, y_train)"
   ]
  },
  {
   "cell_type": "code",
   "execution_count": 21,
   "metadata": {
    "collapsed": true
   },
   "outputs": [],
   "source": [
    "y_pred = svc.predict(X_test)\n"
   ]
  },
  {
   "cell_type": "code",
   "execution_count": 29,
   "metadata": {
    "collapsed": false
   },
   "outputs": [
    {
     "data": {
      "text/plain": [
       "array([[-0.01320194, -0.03453445,  0.2922507 ,  0.18734485,  0.23336312,\n",
       "         0.16683062,  0.53241675, -0.38683707,  0.09090067, -0.01800152,\n",
       "        -0.17114226,  0.04417404, -0.05187905, -0.09112446, -0.08544671,\n",
       "         0.07258151,  0.04779035, -0.03944539,  0.1015198 , -0.43483052,\n",
       "         0.27178029, -0.05101964, -0.02472289, -0.09122823, -0.03105095,\n",
       "        -3.48271726,  4.77567122,  0.11745874, -0.01957459,  0.69342562,\n",
       "        -0.00831045, -0.02648164, -0.02949208, -0.02023859,  0.00975312,\n",
       "         0.04163533,  0.03313432,  0.07476965,  0.08499122, -0.1008551 ,\n",
       "        -0.11282168, -0.09322325, -0.03184387,  0.13629832, -0.07683844,\n",
       "        -0.07957613,  0.04605105,  0.05362458, -0.02544362,  0.01606647,\n",
       "        -0.12832291, -0.02209627, -0.05905608,  0.00814803,  0.03408895,\n",
       "         0.02748777,  0.07401388,  0.03107492,  0.00783965]])"
      ]
     },
     "execution_count": 29,
     "metadata": {},
     "output_type": "execute_result"
    }
   ],
   "source": [
    "svc.coef_"
   ]
  },
  {
   "cell_type": "code",
   "execution_count": 33,
   "metadata": {
    "collapsed": false
   },
   "outputs": [
    {
     "name": "stdout",
     "output_type": "stream",
     "text": [
      "[' timedelta' ' n_tokens_title' ' n_tokens_content' ' n_unique_tokens'\n",
      " ' n_non_stop_words' ' n_non_stop_unique_tokens' ' num_hrefs'\n",
      " ' num_self_hrefs' ' num_imgs' ' num_videos' ' average_token_length'\n",
      " ' num_keywords' ' data_channel_is_lifestyle'\n",
      " ' data_channel_is_entertainment' ' data_channel_is_bus'\n",
      " ' data_channel_is_socmed' ' data_channel_is_tech' ' data_channel_is_world'\n",
      " ' kw_min_min' ' kw_max_min' ' kw_avg_min' ' kw_min_max' ' kw_max_max'\n",
      " ' kw_avg_max' ' kw_min_avg' ' kw_max_avg' ' kw_avg_avg'\n",
      " ' self_reference_min_shares' ' self_reference_max_shares'\n",
      " ' self_reference_avg_sharess' ' weekday_is_monday' ' weekday_is_tuesday'\n",
      " ' weekday_is_wednesday' ' weekday_is_thursday' ' weekday_is_friday'\n",
      " ' weekday_is_saturday' ' weekday_is_sunday' ' is_weekend' ' LDA_00'\n",
      " ' LDA_01' ' LDA_02' ' LDA_03' ' LDA_04' ' global_subjectivity'\n",
      " ' global_sentiment_polarity' ' global_rate_positive_words'\n",
      " ' global_rate_negative_words' ' rate_positive_words'\n",
      " ' rate_negative_words' ' avg_positive_polarity' ' min_positive_polarity'\n",
      " ' max_positive_polarity' ' avg_negative_polarity' ' min_negative_polarity'\n",
      " ' max_negative_polarity' ' title_subjectivity' ' title_sentiment_polarity'\n",
      " ' abs_title_subjectivity' ' abs_title_sentiment_polarity']\n",
      "[-0.01320194 -0.03453445  0.2922507   0.18734485  0.23336312  0.16683062\n",
      "  0.53241675 -0.38683707  0.09090067 -0.01800152 -0.17114226  0.04417404\n",
      " -0.05187905 -0.09112446 -0.08544671  0.07258151  0.04779035 -0.03944539\n",
      "  0.1015198  -0.43483052  0.27178029 -0.05101964 -0.02472289 -0.09122823\n",
      " -0.03105095 -3.48271726  4.77567122  0.11745874 -0.01957459  0.69342562\n",
      " -0.00831045 -0.02648164 -0.02949208 -0.02023859  0.00975312  0.04163533\n",
      "  0.03313432  0.07476965  0.08499122 -0.1008551  -0.11282168 -0.09322325\n",
      " -0.03184387  0.13629832 -0.07683844 -0.07957613  0.04605105  0.05362458\n",
      " -0.02544362  0.01606647 -0.12832291 -0.02209627 -0.05905608  0.00814803\n",
      "  0.03408895  0.02748777  0.07401388  0.03107492  0.00783965]\n"
     ]
    }
   ],
   "source": [
    "print a\n",
    "print svc.coef_[0]"
   ]
  },
  {
   "cell_type": "code",
   "execution_count": 37,
   "metadata": {
    "collapsed": false
   },
   "outputs": [
    {
     "name": "stdout",
     "output_type": "stream",
     "text": [
      "                           Drivers      Coef\n",
      "25                      kw_max_avg -3.482717\n",
      "19                      kw_max_min -0.434831\n",
      "7                   num_self_hrefs -0.386837\n",
      "10            average_token_length -0.171142\n",
      "50           min_positive_polarity -0.128323\n",
      "40                          LDA_02 -0.112822\n",
      "39                          LDA_01 -0.100855\n",
      "41                          LDA_03 -0.093223\n",
      "23                      kw_avg_max -0.091228\n",
      "13   data_channel_is_entertainment -0.091124\n",
      "14             data_channel_is_bus -0.085447\n",
      "45      global_rate_positive_words -0.079576\n",
      "44       global_sentiment_polarity -0.076838\n",
      "52           avg_negative_polarity -0.059056\n",
      "12       data_channel_is_lifestyle -0.051879\n",
      "21                      kw_min_max -0.051020\n",
      "17           data_channel_is_world -0.039445\n",
      "1                   n_tokens_title -0.034534\n",
      "42                          LDA_04 -0.031844\n",
      "24                      kw_min_avg -0.031051\n",
      "32            weekday_is_wednesday -0.029492\n",
      "31              weekday_is_tuesday -0.026482\n",
      "48             rate_negative_words -0.025444\n",
      "22                      kw_max_max -0.024723\n",
      "51           max_positive_polarity -0.022096\n",
      "33             weekday_is_thursday -0.020239\n",
      "28       self_reference_max_shares -0.019575\n",
      "9                       num_videos -0.018002\n",
      "0                        timedelta -0.013202\n",
      "30               weekday_is_monday -0.008310\n",
      "58    abs_title_sentiment_polarity  0.007840\n",
      "53           min_negative_polarity  0.008148\n",
      "34               weekday_is_friday  0.009753\n",
      "49           avg_positive_polarity  0.016066\n",
      "55              title_subjectivity  0.027488\n",
      "57          abs_title_subjectivity  0.031075\n",
      "36               weekday_is_sunday  0.033134\n",
      "54           max_negative_polarity  0.034089\n",
      "35             weekday_is_saturday  0.041635\n",
      "11                    num_keywords  0.044174\n",
      "46      global_rate_negative_words  0.046051\n",
      "16            data_channel_is_tech  0.047790\n",
      "47             rate_positive_words  0.053625\n",
      "15          data_channel_is_socmed  0.072582\n",
      "56        title_sentiment_polarity  0.074014\n",
      "37                      is_weekend  0.074770\n",
      "38                          LDA_00  0.084991\n",
      "8                         num_imgs  0.090901\n",
      "18                      kw_min_min  0.101520\n",
      "27       self_reference_min_shares  0.117459\n",
      "43             global_subjectivity  0.136298\n",
      "5         n_non_stop_unique_tokens  0.166831\n",
      "3                  n_unique_tokens  0.187345\n",
      "4                 n_non_stop_words  0.233363\n",
      "20                      kw_avg_min  0.271780\n",
      "2                 n_tokens_content  0.292251\n",
      "6                        num_hrefs  0.532417\n",
      "29      self_reference_avg_sharess  0.693426\n",
      "26                      kw_avg_avg  4.775671\n"
     ]
    },
    {
     "name": "stderr",
     "output_type": "stream",
     "text": [
      "C:\\Users\\Shiva\\Anaconda2\\lib\\site-packages\\ipykernel\\__main__.py:5: FutureWarning: sort(columns=....) is deprecated, use sort_values(by=.....)\n"
     ]
    }
   ],
   "source": [
    "a = X.columns.values\n",
    "import pandas as pd\n",
    "Coef_Dataframe = pd.DataFrame({'Drivers' : a, 'Coef' : b[0]})\n",
    "Coef_Dataframe = Coef_Dataframe[['Drivers', 'Coef']]\n",
    "print Coef_Dataframe.sort('Coef')"
   ]
  }
 ],
 "metadata": {
  "anaconda-cloud": {},
  "kernelspec": {
   "display_name": "Python [conda root]",
   "language": "python",
   "name": "conda-root-py"
  },
  "language_info": {
   "codemirror_mode": {
    "name": "ipython",
    "version": 2
   },
   "file_extension": ".py",
   "mimetype": "text/x-python",
   "name": "python",
   "nbconvert_exporter": "python",
   "pygments_lexer": "ipython2",
   "version": "2.7.12"
  }
 },
 "nbformat": 4,
 "nbformat_minor": 0
}
